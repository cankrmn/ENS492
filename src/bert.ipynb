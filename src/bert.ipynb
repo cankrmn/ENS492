{
 "cells": [
  {
   "cell_type": "code",
   "execution_count": 1,
   "metadata": {},
   "outputs": [],
   "source": [
    "labels = ['fraud', 'hacker groups', 'government', 'corporation',\n",
    "       'unrelated', 'darknet', 'cyber defense', 'hacking', 'security concepts',\n",
    "       'security products', 'network security', 'cyberwar', 'geopolitical',\n",
    "       'data breach', 'vulnerability', 'platform', 'cyber attack']\n",
    "       \n",
    "\n",
    "id2label = {idx:label for idx, label in enumerate(labels)}\n",
    "label2id = {label:idx for idx, label in enumerate(labels)}"
   ]
  },
  {
   "cell_type": "markdown",
   "metadata": {
    "id": "CngF7bDlsvka"
   },
   "source": [
    "# BERT"
   ]
  },
  {
   "cell_type": "code",
   "execution_count": 2,
   "metadata": {
    "colab": {
     "base_uri": "https://localhost:8080/"
    },
    "id": "3EXZSywC87p6",
    "outputId": "0df05490-6b79-41e9-9ff0-78336a3bce02"
   },
   "outputs": [
    {
     "data": {
      "text/plain": [
       "(1000, 19)"
      ]
     },
     "execution_count": 2,
     "metadata": {},
     "output_type": "execute_result"
    }
   ],
   "source": [
    "import pandas as pd\n",
    "import numpy as np\n",
    "df = pd.read_csv(\"./reduced_dataset[0,1000].csv\")\n",
    "df.shape"
   ]
  },
  {
   "cell_type": "code",
   "execution_count": 3,
   "metadata": {
    "id": "m8Du1P4D2XZI"
   },
   "outputs": [],
   "source": [
    "from sklearn.model_selection import train_test_split\n",
    "\n",
    "train, test= train_test_split(df, test_size=0.15, random_state=42)\n",
    "train, validation= train_test_split(train, test_size=0.20, random_state=42)"
   ]
  },
  {
   "cell_type": "code",
   "execution_count": 4,
   "metadata": {
    "id": "04IGfQmg22Mc"
   },
   "outputs": [],
   "source": [
    "train.to_csv('train_data.csv', index=False)\n",
    "validation.to_csv('validation_data.csv', index=False)\n",
    "test.to_csv('test_data.csv', index=False)"
   ]
  },
  {
   "cell_type": "markdown",
   "metadata": {
    "id": "7nSQd3H6tphP"
   },
   "source": [
    "Load dataset to train bert with"
   ]
  },
  {
   "cell_type": "markdown",
   "metadata": {
    "id": "MlFLBhhvtySz"
   },
   "source": [
    "## Load dataset\n",
    "\n",
    "Next, let's download a multi-label text classification dataset from the [hub](https://huggingface.co/).\n",
    "\n",
    "At the time of writing, I picked a random one as follows:   \n",
    "\n",
    "* first, go to the \"datasets\" tab on huggingface.co\n",
    "* next, select the \"multi-label-classification\" tag on the left as well as the the \"1k<10k\" tag (fo find a relatively small dataset).\n",
    "\n",
    "Note that you can also easily load your local data (i.e. csv files, txt files, Parquet files, JSON, ...) as explained [here](https://huggingface.co/docs/datasets/loading.html#local-and-remote-files).\n",
    "\n"
   ]
  },
  {
   "cell_type": "code",
   "execution_count": 5,
   "metadata": {
    "colab": {
     "base_uri": "https://localhost:8080/"
    },
    "id": "eXUJZk9Ys7AH",
    "outputId": "5f2dad49-e2d5-4098-a421-afbbb3ceea3e"
   },
   "outputs": [],
   "source": [
    "from datasets import load_dataset\n",
    "\n",
    "# dataset = load_dataset(\"sem_eval_2018_task_1\", \"subtask5.english\")"
   ]
  },
  {
   "cell_type": "code",
   "execution_count": 6,
   "metadata": {
    "colab": {
     "base_uri": "https://localhost:8080/",
     "height": 532,
     "referenced_widgets": [
      "032738434a8d4f9e8c22f0cb2c7f065e",
      "5b479fc9589c45909dd36fd8bc78c2ce",
      "d262a715360e48dc9d29a8c2d2c33c15",
      "095ae3270c4a4be68193e668db44c045",
      "cdba9d6997fd49f6a1cb90f3def2b9d7",
      "5251dab196a94a598a4084f94c7b8a17",
      "5a3f7b7a12b447018d0990de3d692aa2",
      "a1c89166a3c94bc1ba77e156c06bf5be",
      "f24530a6f9374bc5aac39ddfeb4bb6eb",
      "6d11f835bc0a4fb99d847a19584d1dc7",
      "c3b24b80ddf94d298cc53c026893e352",
      "edee687d86134f9cb7b8c943ab9f13cc",
      "bcfbcc61f087487fb3c788ce12b6277d",
      "3090181dc9884d93840bac145acca311",
      "8c92e642973a4c9eb51c762f8367f35f",
      "35e6e37962364abab635873cdc7a970c",
      "93a00a441e104edcb39a630227797d17",
      "b3e9626779ed4a348704fee62c6f0072",
      "5bf68f5abb4e409cb9d4cffe2dab3b4a",
      "06965598c5514d7c8e825aef6f6c1b43",
      "79413c171c4a4e128834e01d6b731a52",
      "285ae513ad484af4a002d65a7d9de0e7",
      "6b504062a0724e818a8f23941199a7a3",
      "2cb2ab8e809045d4bc5af70788fd1c5c",
      "14c57f3ee20547468997494c0d5ef642",
      "e0d7eaba5c1247019a2c75f05dbe665b",
      "3593a9df47af4dc5acac685faff786f9",
      "373374122fdc4b8dbaa9592a78906da0",
      "555236b0f66b464985ad57d5ce56f9de",
      "8d05a8dd49f54b158b652fbd47d120db",
      "49dc2c45eaef4b329365f78ad04d5506",
      "00084ea3f26a426a99f409ae3d92b5d2",
      "55dc4e1ee00e4f19ba37ad8138073080",
      "0534298fc7f54673b9412ae59eb72cff",
      "726b9b931306429097a246290fb77ec3",
      "5b3bc477684e46c896b52216e2e7ffdf",
      "ac69e9732dbd4c6cac227ca673883f5f",
      "ed83496efbf44fc1ad7af205aaa92f85",
      "d3555a2ac04e4038ae761dff43bd979e",
      "a37397314f014beb8b4e59950bdf6b91",
      "4da28d43b388469f9569610f89568200",
      "e2a2b9a4f380452cbaa697630f6922b4",
      "bbdbb2dfe5eb4fbb95437e0ab1e389fc",
      "6ead8015b2a949b88667012f2a158313",
      "4f663290cbb4406e8dee280d6f78344f",
      "115ffd8dffaf49e2b7e8c724373495e2",
      "8dfb5ee6d99246679b7d1be0e298c3fa",
      "1090ae8e278b41aa9b5418dee77e60cd",
      "0d35c3107acf4b7b8ddc42bc8a2ef41f",
      "dd61dbc2a65a43b190f0a7c07ed2e8ca",
      "cf9b63f5448a43f7beaa1d2c5af19dad",
      "894c72e4636549c5836dfe93e2fbae34",
      "2e47d3db8d6e4d3c85605698c2531af3",
      "866aadabb6b54dd3adca5403df6df835",
      "9f02e7409e954027b883249cf959f098",
      "f3c9d7e80f0a4507a707e968c7e607b6",
      "ba13eacc90634aa897320592a0412454",
      "4684e897605042bd99c9e35cd0b71a44",
      "7a85f7181bb843c88255518edbf4c429",
      "263913c7bb814659b31fd0f961239621",
      "685736644206497b913bbf436df2957c",
      "f2799b4163ac4beabb30c5de0035b6f8",
      "66a3544eff144a938e6fdb9721b15e07",
      "33f8740bb12541fc9399ebc84d255d2d",
      "d9e674d89fb64b569059630593a59787",
      "df74a8dd22a0430b96596a947410896e"
     ]
    },
    "id": "f0dJ1PMJ1NXl",
    "outputId": "5fd1556e-248b-4f52-9541-06e1c2382e13"
   },
   "outputs": [
    {
     "name": "stderr",
     "output_type": "stream",
     "text": [
      "Using custom data configuration default-9b0126f3dc201ec6\n"
     ]
    },
    {
     "name": "stdout",
     "output_type": "stream",
     "text": [
      "Downloading and preparing dataset csv/default to /Users/cankrmn/.cache/huggingface/datasets/csv/default-9b0126f3dc201ec6/0.0.0/6b34fb8fcf56f7c8ba51dc895bfa2bfbe43546f190a60fcf74bb5e8afdcc2317...\n"
     ]
    },
    {
     "data": {
      "application/vnd.jupyter.widget-view+json": {
       "model_id": "99012e5db6214a4c8dbaf0d17de813d6",
       "version_major": 2,
       "version_minor": 0
      },
      "text/plain": [
       "Downloading data files:   0%|          | 0/3 [00:00<?, ?it/s]"
      ]
     },
     "metadata": {},
     "output_type": "display_data"
    },
    {
     "name": "stderr",
     "output_type": "stream",
     "text": [
      "\r\n",
      "Extracting data files #0:   0%|          | 0/1 [00:00<?, ?obj/s]\n",
      "\r\n",
      "Extracting data files #1:   0%|          | 0/1 [00:00<?, ?obj/s]\u001b[A\r\n",
      "Extracting data files #1: 100%|██████████| 1/1 [00:00<00:00, 581.41obj/s]\n",
      "\r\n",
      "Extracting data files #0: 100%|██████████| 1/1 [00:00<00:00, 495.78obj/s]\n",
      "\n",
      "\n",
      "\r\n",
      "Extracting data files #2:   0%|          | 0/1 [00:00<?, ?obj/s]\u001b[A\u001b[A\r\n",
      "Extracting data files #2: 100%|██████████| 1/1 [00:00<00:00, 1723.92obj/s]\n"
     ]
    },
    {
     "data": {
      "application/vnd.jupyter.widget-view+json": {
       "model_id": "",
       "version_major": 2,
       "version_minor": 0
      },
      "text/plain": [
       "Generating train split: 0 examples [00:00, ? examples/s]"
      ]
     },
     "metadata": {},
     "output_type": "display_data"
    },
    {
     "name": "stderr",
     "output_type": "stream",
     "text": [
      "/Users/cankrmn/Desktop/ENS 492 Bert venv/lib/python3.9/site-packages/datasets/download/streaming_download_manager.py:714: FutureWarning: the 'mangle_dupe_cols' keyword is deprecated and will be removed in a future version. Please take steps to stop the use of 'mangle_dupe_cols'\n",
      "  return pd.read_csv(xopen(filepath_or_buffer, \"rb\", use_auth_token=use_auth_token), **kwargs)\n"
     ]
    },
    {
     "data": {
      "application/vnd.jupyter.widget-view+json": {
       "model_id": "",
       "version_major": 2,
       "version_minor": 0
      },
      "text/plain": [
       "Generating test split: 0 examples [00:00, ? examples/s]"
      ]
     },
     "metadata": {},
     "output_type": "display_data"
    },
    {
     "name": "stderr",
     "output_type": "stream",
     "text": [
      "/Users/cankrmn/Desktop/ENS 492 Bert venv/lib/python3.9/site-packages/datasets/download/streaming_download_manager.py:714: FutureWarning: the 'mangle_dupe_cols' keyword is deprecated and will be removed in a future version. Please take steps to stop the use of 'mangle_dupe_cols'\n",
      "  return pd.read_csv(xopen(filepath_or_buffer, \"rb\", use_auth_token=use_auth_token), **kwargs)\n"
     ]
    },
    {
     "data": {
      "application/vnd.jupyter.widget-view+json": {
       "model_id": "",
       "version_major": 2,
       "version_minor": 0
      },
      "text/plain": [
       "Generating validation split: 0 examples [00:00, ? examples/s]"
      ]
     },
     "metadata": {},
     "output_type": "display_data"
    },
    {
     "name": "stdout",
     "output_type": "stream",
     "text": [
      "Dataset csv downloaded and prepared to /Users/cankrmn/.cache/huggingface/datasets/csv/default-9b0126f3dc201ec6/0.0.0/6b34fb8fcf56f7c8ba51dc895bfa2bfbe43546f190a60fcf74bb5e8afdcc2317. Subsequent calls will reuse this data.\n"
     ]
    },
    {
     "name": "stderr",
     "output_type": "stream",
     "text": [
      "/Users/cankrmn/Desktop/ENS 492 Bert venv/lib/python3.9/site-packages/datasets/download/streaming_download_manager.py:714: FutureWarning: the 'mangle_dupe_cols' keyword is deprecated and will be removed in a future version. Please take steps to stop the use of 'mangle_dupe_cols'\n",
      "  return pd.read_csv(xopen(filepath_or_buffer, \"rb\", use_auth_token=use_auth_token), **kwargs)\n"
     ]
    },
    {
     "data": {
      "application/vnd.jupyter.widget-view+json": {
       "model_id": "2e30091d7d1c4a24ba5bcafe0c2b2231",
       "version_major": 2,
       "version_minor": 0
      },
      "text/plain": [
       "  0%|          | 0/3 [00:00<?, ?it/s]"
      ]
     },
     "metadata": {},
     "output_type": "display_data"
    },
    {
     "data": {
      "text/plain": [
       "DatasetDict({\n",
       "    train: Dataset({\n",
       "        features: ['Unnamed: 0', 'raw_text', 'fraud', 'hacker groups', 'government', 'corporation', 'unrelated', 'darknet', 'cyber defense', 'hacking', 'security concepts', 'security products', 'network security', 'cyberwar', 'geopolitical', 'data breach', 'vulnerability', 'platform', 'cyber attack'],\n",
       "        num_rows: 680\n",
       "    })\n",
       "    test: Dataset({\n",
       "        features: ['Unnamed: 0', 'raw_text', 'fraud', 'hacker groups', 'government', 'corporation', 'unrelated', 'darknet', 'cyber defense', 'hacking', 'security concepts', 'security products', 'network security', 'cyberwar', 'geopolitical', 'data breach', 'vulnerability', 'platform', 'cyber attack'],\n",
       "        num_rows: 150\n",
       "    })\n",
       "    validation: Dataset({\n",
       "        features: ['Unnamed: 0', 'raw_text', 'fraud', 'hacker groups', 'government', 'corporation', 'unrelated', 'darknet', 'cyber defense', 'hacking', 'security concepts', 'security products', 'network security', 'cyberwar', 'geopolitical', 'data breach', 'vulnerability', 'platform', 'cyber attack'],\n",
       "        num_rows: 170\n",
       "    })\n",
       "})"
      ]
     },
     "execution_count": 6,
     "metadata": {},
     "output_type": "execute_result"
    }
   ],
   "source": [
    "dataset = load_dataset('csv', data_files={'train': ['train_data.csv'],\n",
    "                                              'test': 'test_data.csv', 'validation' : 'validation_data.csv'})\n",
    "dataset"
   ]
  },
  {
   "cell_type": "code",
   "execution_count": 7,
   "metadata": {
    "colab": {
     "base_uri": "https://localhost:8080/"
    },
    "id": "lfQdnQsqtEXv",
    "outputId": "e9d65e64-eecf-4840-cf25-831387ff840d"
   },
   "outputs": [
    {
     "data": {
      "text/plain": [
       "{'Unnamed: 0': 284,\n",
       " 'raw_text': 'Operation Diànxùn: Cyberespionage Campaign Targeting Telecommunication Companies\\nhttps://www.mcafee.com/blogs/other-blogs/mcafee-labs/operation-dianxun-cyberespionage-campaign-targeting-telecommunication-companies/',\n",
       " 'fraud': 0,\n",
       " 'hacker groups': 0,\n",
       " 'government': 0,\n",
       " 'corporation': 0,\n",
       " 'unrelated': 0,\n",
       " 'darknet': 0,\n",
       " 'cyber defense': 0,\n",
       " 'hacking': 0,\n",
       " 'security concepts': 0,\n",
       " 'security products': 0,\n",
       " 'network security': 0,\n",
       " 'cyberwar': 0,\n",
       " 'geopolitical': 1,\n",
       " 'data breach': 0,\n",
       " 'vulnerability': 0,\n",
       " 'platform': 0,\n",
       " 'cyber attack': 1}"
      ]
     },
     "execution_count": 7,
     "metadata": {},
     "output_type": "execute_result"
    }
   ],
   "source": [
    "example = dataset['train'][1]\n",
    "example"
   ]
  },
  {
   "cell_type": "markdown",
   "metadata": {
    "id": "r7o7IFyYttAH"
   },
   "source": [
    "The dataset consists of tweets, labeled with one or more emotions. \n",
    "\n",
    "Let's create a list that contains the labels, as well as 2 dictionaries that map labels to integers and back."
   ]
  },
  {
   "cell_type": "markdown",
   "metadata": {
    "id": "TfvWVGzgt6aQ"
   },
   "source": [
    "## Preprocess data\n",
    "\n",
    "As models like BERT don't expect text as direct input, but rather `input_ids`, etc., we tokenize the text using the tokenizer. Here I'm using the `AutoTokenizer` API, which will automatically load the appropriate tokenizer based on the checkpoint on the hub.\n",
    "\n",
    "What's a bit tricky is that we also need to provide labels to the model. For multi-label text classification, this is a matrix of shape (batch_size, num_labels). Also important: this should be a tensor of floats rather than integers, otherwise PyTorch' `BCEWithLogitsLoss` (which the model will use) will complain, as explained [here](https://discuss.pytorch.org/t/multi-label-binary-classification-result-type-float-cant-be-cast-to-the-desired-output-type-long/117915/3)."
   ]
  },
  {
   "cell_type": "code",
   "execution_count": 8,
   "metadata": {
    "id": "xCBmknUbKPtr"
   },
   "outputs": [],
   "source": [
    "import string\n",
    "import re\n",
    "def remove_punctuation(text):\n",
    "    pattern = r'[^a-zA-Z0-9]'\n",
    "    text = re.sub(pattern, ' ', text) \n",
    "    text = re.sub(r' +', ' ', text)\n",
    "    return text.strip()"
   ]
  },
  {
   "cell_type": "code",
   "execution_count": 9,
   "metadata": {
    "colab": {
     "base_uri": "https://localhost:8080/",
     "height": 35
    },
    "id": "e06BeiI7N_Es",
    "outputId": "f6537646-42d7-499f-f6cb-4a92030a0574"
   },
   "outputs": [
    {
     "data": {
      "text/plain": [
       "'dorasdasdas asdaw1132'"
      ]
     },
     "execution_count": 9,
     "metadata": {},
     "output_type": "execute_result"
    }
   ],
   "source": [
    "remove_punctuation(\"dorasdasdas     asdaw1132!!!\")"
   ]
  },
  {
   "cell_type": "code",
   "execution_count": null,
   "metadata": {},
   "outputs": [],
   "source": [
    "txt = {\"raw_text\": \"hello, my name is John and toady I will teach you how to be a loser\"}"
   ]
  },
  {
   "cell_type": "code",
   "execution_count": 10,
   "metadata": {
    "colab": {
     "base_uri": "https://localhost:8080/",
     "height": 145,
     "referenced_widgets": [
      "6a62879479804c1c80b15bfba819c557",
      "8d268ba3f20e4d0fb5b071a58b6a6ac4",
      "60828c779729400ebd962fb415e7869c",
      "8515569b7d7e4aedbbd774d9d3492620",
      "041ca0d308d340bdac56875cbac97354",
      "f17341523c054769957151e982726851",
      "3b92629d986e47d0ba3fecb9cce26ffe",
      "516c8632c0064292973712b8829d8fe7",
      "96e6cd4d266b4dbfb40503da7442ec39",
      "604705210e88419c91f21cebfefc3f0c",
      "fc741193b48a4a59a825dba6dfa3f9c4",
      "fb03f68ac07e40e6a83fa8c088821684",
      "fff07fe058344b719c1725eaf5ea6091",
      "508cdc3b0b494fa89f665bbc841825cf",
      "72b56e7906c14b4ca81366cdfb7164c0",
      "2bc04d85aaa3440a90e15ff96134b7dd",
      "cd85227d1c884c1ea36d3eef15730cb3",
      "df0096e5f77e498d9075ea76c86e8162",
      "b8bfeec00ba64ed4af1881fc8f5e1b5b",
      "be731ebbdc6f4bb88782f86260d015fa",
      "76a746066dd14df89a79999584750b4c",
      "1432825534d7482b9b725831d2ce352f",
      "81906f1c7afd42d88e3f811f171af208",
      "56432e6b2b1049b5a1c4c3d58984522b",
      "78e7464530654c118844b05a533cc644",
      "ed0b04f67ac9434980036dbca45b934d",
      "3770a8dbb5b74eb293b4ebada0c10fc0",
      "bb9690eef1b0450ebcac185cd415f06c",
      "ed39c7a8f1fc4e519817d1b096db5fb0",
      "f0af249ea45c4fc7a5361cd1a95a1b7e",
      "d353aacb4101438ab167df857b89b4ad",
      "d13324eecca5401ab2e4f6f2342cfae4",
      "a25a6a672fd445cd89054fcb5a73bbba",
      "639b68d5afd34ef8b27e638effa5d3d6",
      "bd934e430b114e47b36d40e09af917fe",
      "fb23896619bd4c69886b21a9cc4c6111",
      "cb3925b1f9b041918a069d17a6d51878",
      "4d53c40122d445a6afaa60959ca6ec09",
      "31a07d7a828e4ca49393cb5d24c3ffe6",
      "a3e64938b989405f86a52f83771c1ca7",
      "25e9b004838d46559c4647fab8055b94",
      "9d0886099e9c4cf29fb93b64db5cf001",
      "cebf6b4e1296410889ee098f1e1ec5ea",
      "9d138b8db4c84701b22d9f106e43cc20"
     ]
    },
    "id": "MjSAizIYtJHk",
    "outputId": "dd56d801-243d-4ea0-8bfc-cfc2779130dd"
   },
   "outputs": [],
   "source": [
    "from transformers import AutoTokenizer\n",
    "import numpy as np\n",
    "import unicodedata\n",
    "\n",
    "tokenizer = AutoTokenizer.from_pretrained(\"bert-base-uncased\")\n",
    "\n",
    "def preprocess_data(examples):\n",
    "  # take a batch of texts\n",
    "  text = examples[\"raw_text\"]\n",
    "  # normalize\n",
    "  text = [unicodedata.normalize('NFKC', x) for x in text] \n",
    "  # remove punctuation and lowercase the text\n",
    "  text = [remove_punctuation(x).lower() for x in text] \n",
    "  # encode them\n",
    "  encoding = tokenizer(text, padding=\"max_length\", truncation=True, max_length=512)\n",
    "  # add labels\n",
    "  labels_batch = {k: examples[k] for k in examples.keys() if k in labels}\n",
    "  # create numpy array of shape (batch_size, num_labels)\n",
    "  labels_matrix = np.zeros((len(text), len(labels)))\n",
    "  # fill numpy array\n",
    "  for idx, label in enumerate(labels):\n",
    "    labels_matrix[:, idx] = labels_batch[label]\n",
    "\n",
    "  encoding[\"labels\"] = labels_matrix.tolist()\n",
    "  \n",
    "  return encoding"
   ]
  },
  {
   "cell_type": "code",
   "execution_count": 11,
   "metadata": {
    "colab": {
     "base_uri": "https://localhost:8080/",
     "height": 113,
     "referenced_widgets": [
      "3a4010a6a39f4db49336e3d0390815cb",
      "42f21ee5125841eda480c1b4ed60ba6c",
      "22acc7fb0fa9470ea0d6b1d5650bb010",
      "372b3d0513b041ff9a497c4c3ec386b4",
      "c23247eb60a04b86a2d8b98bbb6ad684",
      "19e65ddacbbc46e48d9ddb3fecab0399",
      "622c8d3eee7f4d1dbd160fef86ce95b4",
      "205490e955324738849d067b7e070008",
      "a0c2283f3aa14f168c845ce41e582536",
      "fb5b9a69573048ac8ebcec78fd0cb85e",
      "45634392e281419b8a0508f703376868",
      "c3850ae29f2242ab9ac51fbe1a87802f",
      "9991c87006564c41a908da11de89ba85",
      "f164cd9ec1f342838a79c58b2b899ed7",
      "1eb40e9bdabb42418aec935396a04623",
      "f29d11184aaa40e6b4273dee88b1e576",
      "4330755e92a344aa8ee9537ce469d10b",
      "07ac9d32bdb84fd7a473bde86a231f9f",
      "3cbb2ccbed984d08b2337b6980007469",
      "ad5f6c457401453a8cab0fabc76eec75",
      "21c2ddb6e7644ffa94ca25e268f1f66a",
      "b04fb906fa894367b641501f3fc4ac40",
      "b324c97733df49bdb6f95d36c9979f5e",
      "a0b704ad27fa4812a9bae5088aa36e28",
      "90c8b96901c64100b36f191727aa6578",
      "6f89e26555af4025b96fee54c53d8217",
      "e2f685b26be04f3c84d096fbfdb27d01",
      "979ef4580abe425e85e8d7514d253396",
      "9863678021a94502b293b333d8549434",
      "b95ac70f11844e509f1de32c2c575530",
      "3c1ee6ccb6f44e7891ca15c6a2ceb91f",
      "87147e8bdd9c46e18f606b29fe472a0b",
      "84b62b5f16524ddcb3b15357e6dd5bd1"
     ]
    },
    "id": "c2zcEa2YtZml",
    "outputId": "72337d2b-c6ab-4ee7-afd6-2490388368e9"
   },
   "outputs": [
    {
     "data": {
      "application/vnd.jupyter.widget-view+json": {
       "model_id": "02f3cdd46a9f4cbd966254b8d6af716f",
       "version_major": 2,
       "version_minor": 0
      },
      "text/plain": [
       "  0%|          | 0/1 [00:00<?, ?ba/s]"
      ]
     },
     "metadata": {},
     "output_type": "display_data"
    },
    {
     "data": {
      "application/vnd.jupyter.widget-view+json": {
       "model_id": "21277b9eb36e4aacb42d5d0ad1e4481c",
       "version_major": 2,
       "version_minor": 0
      },
      "text/plain": [
       "  0%|          | 0/1 [00:00<?, ?ba/s]"
      ]
     },
     "metadata": {},
     "output_type": "display_data"
    },
    {
     "data": {
      "application/vnd.jupyter.widget-view+json": {
       "model_id": "e16b95a5a85e467f9d4b9842e14d96d3",
       "version_major": 2,
       "version_minor": 0
      },
      "text/plain": [
       "  0%|          | 0/1 [00:00<?, ?ba/s]"
      ]
     },
     "metadata": {},
     "output_type": "display_data"
    }
   ],
   "source": [
    "encoded_dataset = dataset.map(preprocess_data, batched=True, remove_columns=dataset['train'].column_names)"
   ]
  },
  {
   "cell_type": "code",
   "execution_count": 12,
   "metadata": {
    "colab": {
     "base_uri": "https://localhost:8080/"
    },
    "id": "U6lBmqi7tMSa",
    "outputId": "8d60f285-b8bd-4cc4-8ab3-dafd9eecef03"
   },
   "outputs": [
    {
     "name": "stdout",
     "output_type": "stream",
     "text": [
      "dict_keys(['input_ids', 'token_type_ids', 'attention_mask', 'labels'])\n"
     ]
    }
   ],
   "source": [
    "example = encoded_dataset['train'][0]\n",
    "print(example.keys())"
   ]
  },
  {
   "cell_type": "code",
   "execution_count": 13,
   "metadata": {
    "colab": {
     "base_uri": "https://localhost:8080/",
     "height": 157
    },
    "id": "VSPI8A2iAtEe",
    "outputId": "be321666-b0d5-49f0-df6b-6fe299b3c018"
   },
   "outputs": [
    {
     "data": {
      "text/plain": [
       "'[CLS] microsoft wpbt flaw lets hackers install rootkits on windows devices security researchers have found a flaw in the microsoft windows platform binary table ( wpbt ) that could be exploited in easy attacks to install rootkits on all windows computers shipped since 2012. [SEP] [PAD] [PAD] [PAD] [PAD] [PAD] [PAD] [PAD] [PAD] [PAD] [PAD] [PAD] [PAD] [PAD] [PAD] [PAD] [PAD] [PAD] [PAD] [PAD] [PAD] [PAD] [PAD] [PAD] [PAD] [PAD] [PAD] [PAD] [PAD] [PAD] [PAD] [PAD] [PAD] [PAD] [PAD] [PAD] [PAD] [PAD] [PAD] [PAD] [PAD] [PAD] [PAD] [PAD] [PAD] [PAD] [PAD] [PAD] [PAD] [PAD] [PAD] [PAD] [PAD] [PAD] [PAD] [PAD] [PAD] [PAD] [PAD] [PAD] [PAD] [PAD] [PAD] [PAD] [PAD] [PAD] [PAD] [PAD] [PAD] [PAD] [PAD] [PAD] [PAD] [PAD] [PAD] [PAD] [PAD] [PAD] [PAD] [PAD] [PAD] [PAD] [PAD] [PAD] [PAD] [PAD] [PAD] [PAD] [PAD] [PAD] [PAD] [PAD] [PAD] [PAD] [PAD] [PAD] [PAD] [PAD] [PAD] [PAD] [PAD] [PAD] [PAD] [PAD] [PAD] [PAD] [PAD] [PAD] [PAD] [PAD] [PAD] [PAD] [PAD] [PAD] [PAD] [PAD] [PAD] [PAD] [PAD] [PAD] [PAD] [PAD] [PAD] [PAD] [PAD] [PAD] [PAD] [PAD] [PAD] [PAD] [PAD] [PAD] [PAD] [PAD] [PAD] [PAD] [PAD] [PAD] [PAD] [PAD] [PAD] [PAD] [PAD] [PAD] [PAD] [PAD] [PAD] [PAD] [PAD] [PAD] [PAD] [PAD] [PAD] [PAD] [PAD] [PAD] [PAD] [PAD] [PAD] [PAD] [PAD] [PAD] [PAD] [PAD] [PAD] [PAD] [PAD] [PAD] [PAD] [PAD] [PAD] [PAD] [PAD] [PAD] [PAD] [PAD] [PAD] [PAD] [PAD] [PAD] [PAD] [PAD] [PAD] [PAD] [PAD] [PAD] [PAD] [PAD] [PAD] [PAD] [PAD] [PAD] [PAD] [PAD] [PAD] [PAD] [PAD] [PAD] [PAD] [PAD] [PAD] [PAD] [PAD] [PAD] [PAD] [PAD] [PAD] [PAD] [PAD] [PAD] [PAD] [PAD] [PAD] [PAD] [PAD] [PAD] [PAD] [PAD] [PAD] [PAD] [PAD] [PAD] [PAD] [PAD] [PAD] [PAD] [PAD] [PAD] [PAD] [PAD] [PAD] [PAD] [PAD] [PAD] [PAD] [PAD] [PAD] [PAD] [PAD] [PAD] [PAD] [PAD] [PAD] [PAD] [PAD] [PAD] [PAD] [PAD] [PAD] [PAD] [PAD] [PAD] [PAD] [PAD] [PAD] [PAD] [PAD] [PAD] [PAD] [PAD] [PAD] [PAD] [PAD] [PAD] [PAD] [PAD] [PAD] [PAD] [PAD] [PAD] [PAD] [PAD] [PAD] [PAD] [PAD] [PAD] [PAD] [PAD] [PAD] [PAD] [PAD] [PAD] [PAD] [PAD] [PAD] [PAD] [PAD] [PAD] [PAD] [PAD] [PAD] [PAD] [PAD] [PAD] [PAD] [PAD] [PAD] [PAD] [PAD] [PAD] [PAD] [PAD] [PAD] [PAD] [PAD] [PAD] [PAD] [PAD] [PAD] [PAD] [PAD] [PAD] [PAD] [PAD] [PAD] [PAD] [PAD] [PAD] [PAD] [PAD] [PAD] [PAD] [PAD] [PAD] [PAD] [PAD] [PAD] [PAD] [PAD] [PAD] [PAD] [PAD] [PAD] [PAD] [PAD] [PAD] [PAD] [PAD] [PAD] [PAD] [PAD] [PAD] [PAD] [PAD] [PAD] [PAD] [PAD] [PAD] [PAD] [PAD] [PAD] [PAD] [PAD] [PAD] [PAD] [PAD] [PAD] [PAD] [PAD] [PAD] [PAD] [PAD] [PAD] [PAD] [PAD] [PAD] [PAD] [PAD] [PAD] [PAD] [PAD] [PAD] [PAD] [PAD] [PAD] [PAD] [PAD] [PAD] [PAD] [PAD] [PAD] [PAD] [PAD] [PAD] [PAD] [PAD] [PAD] [PAD] [PAD] [PAD] [PAD] [PAD] [PAD] [PAD] [PAD] [PAD] [PAD] [PAD] [PAD] [PAD] [PAD] [PAD] [PAD] [PAD] [PAD] [PAD] [PAD] [PAD] [PAD] [PAD] [PAD] [PAD] [PAD] [PAD] [PAD] [PAD] [PAD] [PAD] [PAD] [PAD] [PAD] [PAD] [PAD] [PAD] [PAD] [PAD] [PAD] [PAD] [PAD] [PAD] [PAD] [PAD] [PAD] [PAD] [PAD] [PAD] [PAD] [PAD] [PAD] [PAD] [PAD] [PAD] [PAD] [PAD] [PAD] [PAD] [PAD] [PAD] [PAD] [PAD] [PAD] [PAD] [PAD] [PAD] [PAD] [PAD] [PAD] [PAD]'"
      ]
     },
     "execution_count": 13,
     "metadata": {},
     "output_type": "execute_result"
    }
   ],
   "source": [
    "i=999\n",
    "text = unicodedata.normalize('NFKC', df.raw_text.iloc[i])\n",
    "encoded = tokenizer.encode_plus(text, padding=\"max_length\", truncation=True, max_length=512,)[\"input_ids\"]\n",
    "tokenizer.decode(encoded)"
   ]
  },
  {
   "cell_type": "code",
   "execution_count": 18,
   "metadata": {
    "id": "Y_fpWh9o99EI"
   },
   "outputs": [],
   "source": [
    "def get_unknown_counts(sent): \n",
    "  return (tokenizer.encode_plus(text=sent, return_tensors=\"pt\")[\"input_ids\"] == 100).sum().item()"
   ]
  },
  {
   "cell_type": "code",
   "execution_count": 19,
   "metadata": {
    "colab": {
     "base_uri": "https://localhost:8080/"
    },
    "id": "_MGgwl0VAvYV",
    "outputId": "07a348fa-054b-422d-aef0-919680eaf6b0"
   },
   "outputs": [
    {
     "data": {
      "text/plain": [
       "999    0\n",
       "Name: raw_text, dtype: int64"
      ]
     },
     "execution_count": 19,
     "metadata": {},
     "output_type": "execute_result"
    }
   ],
   "source": [
    "df.raw_text.iloc[[i]].apply(get_unknown_counts)"
   ]
  },
  {
   "cell_type": "code",
   "execution_count": 20,
   "metadata": {
    "colab": {
     "base_uri": "https://localhost:8080/"
    },
    "id": "yBeNl3pJAcdc",
    "outputId": "560ef9ed-1035-4dc1-c02e-db5673c7f0f4"
   },
   "outputs": [
    {
     "data": {
      "text/plain": [
       "0"
      ]
     },
     "execution_count": 20,
     "metadata": {},
     "output_type": "execute_result"
    }
   ],
   "source": [
    "df.raw_text.apply(get_unknown_counts).sum()"
   ]
  },
  {
   "cell_type": "code",
   "execution_count": 21,
   "metadata": {
    "colab": {
     "base_uri": "https://localhost:8080/",
     "height": 157
    },
    "id": "5W0PUNDVtO3M",
    "outputId": "09c96b9c-b614-446b-b1ce-14403e25ba53"
   },
   "outputs": [
    {
     "data": {
      "text/plain": [
       "'[CLS] zooming with the grandkids nieces and nephews five free and easy video chat apps for the holidays all the kids are doing it and so can you if you haven t hopped onto a video chat with the family yet the holidays are a great time to give it a whirl while there are plenty of the post zooming with the grandkids five easy video chat apps for the holidays https www mcafee com blogs consumer family safety zooming with the grandkids five easy video chat apps for the holidays appeared first on mcafee blogs https www mcafee com blogs [SEP] [PAD] [PAD] [PAD] [PAD] [PAD] [PAD] [PAD] [PAD] [PAD] [PAD] [PAD] [PAD] [PAD] [PAD] [PAD] [PAD] [PAD] [PAD] [PAD] [PAD] [PAD] [PAD] [PAD] [PAD] [PAD] [PAD] [PAD] [PAD] [PAD] [PAD] [PAD] [PAD] [PAD] [PAD] [PAD] [PAD] [PAD] [PAD] [PAD] [PAD] [PAD] [PAD] [PAD] [PAD] [PAD] [PAD] [PAD] [PAD] [PAD] [PAD] [PAD] [PAD] [PAD] [PAD] [PAD] [PAD] [PAD] [PAD] [PAD] [PAD] [PAD] [PAD] [PAD] [PAD] [PAD] [PAD] [PAD] [PAD] [PAD] [PAD] [PAD] [PAD] [PAD] [PAD] [PAD] [PAD] [PAD] [PAD] [PAD] [PAD] [PAD] [PAD] [PAD] [PAD] [PAD] [PAD] [PAD] [PAD] [PAD] [PAD] [PAD] [PAD] [PAD] [PAD] [PAD] [PAD] [PAD] [PAD] [PAD] [PAD] [PAD] [PAD] [PAD] [PAD] [PAD] [PAD] [PAD] [PAD] [PAD] [PAD] [PAD] [PAD] [PAD] [PAD] [PAD] [PAD] [PAD] [PAD] [PAD] [PAD] [PAD] [PAD] [PAD] [PAD] [PAD] [PAD] [PAD] [PAD] [PAD] [PAD] [PAD] [PAD] [PAD] [PAD] [PAD] [PAD] [PAD] [PAD] [PAD] [PAD] [PAD] [PAD] [PAD] [PAD] [PAD] [PAD] [PAD] [PAD] [PAD] [PAD] [PAD] [PAD] [PAD] [PAD] [PAD] [PAD] [PAD] [PAD] [PAD] [PAD] [PAD] [PAD] [PAD] [PAD] [PAD] [PAD] [PAD] [PAD] [PAD] [PAD] [PAD] [PAD] [PAD] [PAD] [PAD] [PAD] [PAD] [PAD] [PAD] [PAD] [PAD] [PAD] [PAD] [PAD] [PAD] [PAD] [PAD] [PAD] [PAD] [PAD] [PAD] [PAD] [PAD] [PAD] [PAD] [PAD] [PAD] [PAD] [PAD] [PAD] [PAD] [PAD] [PAD] [PAD] [PAD] [PAD] [PAD] [PAD] [PAD] [PAD] [PAD] [PAD] [PAD] [PAD] [PAD] [PAD] [PAD] [PAD] [PAD] [PAD] [PAD] [PAD] [PAD] [PAD] [PAD] [PAD] [PAD] [PAD] [PAD] [PAD] [PAD] [PAD] [PAD] [PAD] [PAD] [PAD] [PAD] [PAD] [PAD] [PAD] [PAD] [PAD] [PAD] [PAD] [PAD] [PAD] [PAD] [PAD] [PAD] [PAD] [PAD] [PAD] [PAD] [PAD] [PAD] [PAD] [PAD] [PAD] [PAD] [PAD] [PAD] [PAD] [PAD] [PAD] [PAD] [PAD] [PAD] [PAD] [PAD] [PAD] [PAD] [PAD] [PAD] [PAD] [PAD] [PAD] [PAD] [PAD] [PAD] [PAD] [PAD] [PAD] [PAD] [PAD] [PAD] [PAD] [PAD] [PAD] [PAD] [PAD] [PAD] [PAD] [PAD] [PAD] [PAD] [PAD] [PAD] [PAD] [PAD] [PAD] [PAD] [PAD] [PAD] [PAD] [PAD] [PAD] [PAD] [PAD] [PAD] [PAD] [PAD] [PAD] [PAD] [PAD] [PAD] [PAD] [PAD] [PAD] [PAD] [PAD] [PAD] [PAD] [PAD] [PAD] [PAD] [PAD] [PAD] [PAD] [PAD] [PAD] [PAD] [PAD] [PAD] [PAD] [PAD] [PAD] [PAD] [PAD] [PAD] [PAD] [PAD] [PAD] [PAD] [PAD] [PAD] [PAD] [PAD] [PAD] [PAD] [PAD] [PAD] [PAD] [PAD] [PAD] [PAD] [PAD] [PAD] [PAD] [PAD] [PAD] [PAD] [PAD] [PAD] [PAD] [PAD] [PAD] [PAD] [PAD] [PAD] [PAD] [PAD] [PAD] [PAD] [PAD] [PAD] [PAD] [PAD] [PAD] [PAD] [PAD] [PAD] [PAD] [PAD] [PAD] [PAD] [PAD] [PAD] [PAD] [PAD] [PAD] [PAD]'"
      ]
     },
     "execution_count": 21,
     "metadata": {},
     "output_type": "execute_result"
    }
   ],
   "source": [
    "tokenizer.decode(example['input_ids'])"
   ]
  },
  {
   "cell_type": "code",
   "execution_count": 22,
   "metadata": {
    "colab": {
     "base_uri": "https://localhost:8080/"
    },
    "id": "dS4x5aTDtfI3",
    "outputId": "fb74b008-87af-4035-bc23-d8602bd5007f"
   },
   "outputs": [
    {
     "data": {
      "text/plain": [
       "[0.0,\n",
       " 0.0,\n",
       " 0.0,\n",
       " 0.0,\n",
       " 1.0,\n",
       " 0.0,\n",
       " 0.0,\n",
       " 0.0,\n",
       " 0.0,\n",
       " 0.0,\n",
       " 0.0,\n",
       " 0.0,\n",
       " 0.0,\n",
       " 0.0,\n",
       " 0.0,\n",
       " 0.0,\n",
       " 0.0]"
      ]
     },
     "execution_count": 22,
     "metadata": {},
     "output_type": "execute_result"
    }
   ],
   "source": [
    "example['labels']"
   ]
  },
  {
   "cell_type": "code",
   "execution_count": 23,
   "metadata": {
    "colab": {
     "base_uri": "https://localhost:8080/"
    },
    "id": "2CtfBbobtgn1",
    "outputId": "29c4df5b-713a-4836-b5e0-8ec6dba9013e"
   },
   "outputs": [
    {
     "data": {
      "text/plain": [
       "['unrelated']"
      ]
     },
     "execution_count": 23,
     "metadata": {},
     "output_type": "execute_result"
    }
   ],
   "source": [
    "[id2label[idx] for idx, label in enumerate(example['labels']) if label == 1.0]"
   ]
  },
  {
   "cell_type": "markdown",
   "metadata": {
    "id": "V5SSeyyFuF-A"
   },
   "source": [
    "Finally, we set the format of our data to PyTorch tensors. This will turn the training, validation and test sets into standard PyTorch [datasets](https://pytorch.org/docs/stable/data.html). "
   ]
  },
  {
   "cell_type": "code",
   "execution_count": 24,
   "metadata": {
    "id": "CTS-trb1cJyL"
   },
   "outputs": [],
   "source": [
    "from transformers import DataCollatorForLanguageModeling\n",
    "\n",
    "data_collator = DataCollatorForLanguageModeling(\n",
    "    tokenizer=tokenizer, mlm_probability=0.15, return_tensors=\"pt\"\n",
    ")"
   ]
  },
  {
   "cell_type": "code",
   "execution_count": 25,
   "metadata": {
    "id": "rHYv-f-xti0u"
   },
   "outputs": [],
   "source": [
    "encoded_dataset.set_format(\"torch\")"
   ]
  },
  {
   "cell_type": "markdown",
   "metadata": {
    "id": "7or-FJWkuIKd"
   },
   "source": [
    "## Define model\n",
    "\n",
    "Here we define a model that includes a pre-trained base (i.e. the weights from bert-base-uncased) are loaded, with a random initialized classification head (linear layer) on top. One should fine-tune this head, together with the pre-trained base on a labeled dataset.\n",
    "\n",
    "This is also printed by the warning.\n",
    "\n",
    "We set the `problem_type` to be \"multi_label_classification\", as this will make sure the appropriate loss function is used (namely [`BCEWithLogitsLoss`](https://pytorch.org/docs/stable/generated/torch.nn.BCEWithLogitsLoss.html)). We also make sure the output layer has `len(labels)` output neurons, and we set the id2label and label2id mappings."
   ]
  },
  {
   "cell_type": "code",
   "execution_count": 26,
   "metadata": {
    "colab": {
     "base_uri": "https://localhost:8080/",
     "height": 156,
     "referenced_widgets": [
      "a62193489bf143c4b0d7b8a5ce267729",
      "2f97e79d2a6442818774f8b2985cb233",
      "f742855d1aca455b8880a7252819030a",
      "d6958097a14b4ed39fa6ee1a9bd4b5c1",
      "eec6943641654b1d8d987b0974f5a8fc",
      "816bbd8750bf439b9b3e966a48c710f4",
      "1a42be5c6bbe4e19b12b1c8e7e09d31d",
      "2663f33055884f8890ce3e56c7cdcef8",
      "57c5aca3b7e84039b183c9f5672291ad",
      "5bf3b1e28021459eab258ca94cbece65",
      "500ca7f4881a491ba062943f624c0f4a"
     ]
    },
    "id": "_9Vtlz2quJac",
    "outputId": "d1176844-6674-4726-cb54-ba86abf6aa8b"
   },
   "outputs": [
    {
     "data": {
      "application/vnd.jupyter.widget-view+json": {
       "model_id": "6c41e4aa52284b55b6be076432bf5823",
       "version_major": 2,
       "version_minor": 0
      },
      "text/plain": [
       "Downloading:   0%|          | 0.00/440M [00:00<?, ?B/s]"
      ]
     },
     "metadata": {},
     "output_type": "display_data"
    },
    {
     "name": "stderr",
     "output_type": "stream",
     "text": [
      "Some weights of the model checkpoint at bert-base-uncased were not used when initializing BertForSequenceClassification: ['cls.predictions.transform.dense.bias', 'cls.seq_relationship.weight', 'cls.predictions.transform.LayerNorm.weight', 'cls.predictions.bias', 'cls.seq_relationship.bias', 'cls.predictions.transform.LayerNorm.bias', 'cls.predictions.decoder.weight', 'cls.predictions.transform.dense.weight']\n",
      "- This IS expected if you are initializing BertForSequenceClassification from the checkpoint of a model trained on another task or with another architecture (e.g. initializing a BertForSequenceClassification model from a BertForPreTraining model).\n",
      "- This IS NOT expected if you are initializing BertForSequenceClassification from the checkpoint of a model that you expect to be exactly identical (initializing a BertForSequenceClassification model from a BertForSequenceClassification model).\n",
      "Some weights of BertForSequenceClassification were not initialized from the model checkpoint at bert-base-uncased and are newly initialized: ['classifier.weight', 'classifier.bias']\n",
      "You should probably TRAIN this model on a down-stream task to be able to use it for predictions and inference.\n"
     ]
    }
   ],
   "source": [
    "from transformers import AutoModelForSequenceClassification\n",
    "\n",
    "model = AutoModelForSequenceClassification.from_pretrained(\"bert-base-uncased\", \n",
    "                                                           problem_type=\"multi_label_classification\", \n",
    "                                                           num_labels=len(labels),\n",
    "                                                           id2label=id2label,\n",
    "                                                           label2id=label2id)"
   ]
  },
  {
   "cell_type": "markdown",
   "metadata": {
    "id": "nBWE9mmeuMx1"
   },
   "source": [
    "## Train the model!\n",
    "\n",
    "We are going to train the model using HuggingFace's Trainer API. This requires us to define 2 things: \n",
    "\n",
    "* `TrainingArguments`, which specify training hyperparameters. All options can be found in the [docs](https://huggingface.co/transformers/main_classes/trainer.html#trainingarguments). Below, we for example specify that we want to evaluate after every epoch of training, we would like to save the model every epoch, we set the learning rate, the batch size to use for training/evaluation, how many epochs to train for, and so on.\n",
    "* a `Trainer` object (docs can be found [here](https://huggingface.co/transformers/main_classes/trainer.html#id1))."
   ]
  },
  {
   "cell_type": "code",
   "execution_count": 27,
   "metadata": {
    "id": "5CaaO5BcuMaS"
   },
   "outputs": [],
   "source": [
    "batch_size = 8\n",
    "metric_name = \"f1\""
   ]
  },
  {
   "cell_type": "code",
   "execution_count": 28,
   "metadata": {
    "id": "uab7kP6JuP7T"
   },
   "outputs": [],
   "source": [
    "from transformers import TrainingArguments, Trainer\n",
    "\n",
    "args = TrainingArguments(\n",
    "    f\"bert-finetuned-sem_eval-english\",\n",
    "    evaluation_strategy = \"epoch\",\n",
    "    save_strategy = \"epoch\",\n",
    "    learning_rate=2e-5,\n",
    "    per_device_train_batch_size=batch_size,\n",
    "    per_device_eval_batch_size=batch_size,\n",
    "    num_train_epochs=5,\n",
    "    weight_decay=0.01,\n",
    "    load_best_model_at_end=True,\n",
    "    metric_for_best_model=metric_name,\n",
    "    #push_to_hub=True,\n",
    ")"
   ]
  },
  {
   "cell_type": "markdown",
   "metadata": {
    "id": "MaYTeEtKuO8l"
   },
   "source": [
    "We are also going to compute metrics while training. For this, we need to define a `compute_metrics` function, that returns a dictionary with the desired metric values."
   ]
  },
  {
   "cell_type": "code",
   "execution_count": 29,
   "metadata": {
    "id": "PBB0oDIfuTgN"
   },
   "outputs": [],
   "source": [
    "from sklearn.metrics import f1_score, roc_auc_score, accuracy_score\n",
    "from transformers import EvalPrediction\n",
    "import torch\n",
    "    \n",
    "# source: https://jesusleal.io/2021/04/21/Longformer-multilabel-classification/\n",
    "def multi_label_metrics(predictions, labels, threshold=0.5):\n",
    "    # first, apply sigmoid on predictions which are of shape (batch_size, num_labels)\n",
    "    sigmoid = torch.nn.Sigmoid()\n",
    "    probs = sigmoid(torch.Tensor(predictions))\n",
    "    # next, use threshold to turn them into integer predictions\n",
    "    y_pred = np.zeros(probs.shape)\n",
    "    y_pred[np.where(probs >= threshold)] = 1\n",
    "    # finally, compute metrics\n",
    "    y_true = labels\n",
    "    f1_micro_average = f1_score(y_true=y_true, y_pred=y_pred, average='micro')\n",
    "    roc_auc = roc_auc_score(y_true, y_pred, average = 'micro')\n",
    "    accuracy = accuracy_score(y_true, y_pred)\n",
    "    # return as dictionary\n",
    "    metrics = {'f1': f1_micro_average,\n",
    "               'roc_auc': roc_auc,\n",
    "               'accuracy': accuracy}\n",
    "    return metrics\n",
    "\n",
    "def compute_metrics(p: EvalPrediction):\n",
    "    preds = p.predictions[0] if isinstance(p.predictions, \n",
    "            tuple) else p.predictions\n",
    "    result = multi_label_metrics(\n",
    "        predictions=preds, \n",
    "        labels=p.label_ids)\n",
    "    return result"
   ]
  },
  {
   "cell_type": "markdown",
   "metadata": {
    "id": "sf_6Fr8LuWTp"
   },
   "source": [
    "Let's verify a batch as well as a forward pass:"
   ]
  },
  {
   "cell_type": "code",
   "execution_count": 30,
   "metadata": {
    "colab": {
     "base_uri": "https://localhost:8080/",
     "height": 35
    },
    "id": "LzLZ8_SiuWrr",
    "outputId": "f84b7c11-e556-4fb6-f53b-12e087010f9e"
   },
   "outputs": [
    {
     "data": {
      "text/plain": [
       "'torch.FloatTensor'"
      ]
     },
     "execution_count": 30,
     "metadata": {},
     "output_type": "execute_result"
    }
   ],
   "source": [
    "encoded_dataset['train'][0]['labels'].type()"
   ]
  },
  {
   "cell_type": "code",
   "execution_count": 31,
   "metadata": {
    "colab": {
     "base_uri": "https://localhost:8080/"
    },
    "id": "OmuDuBFfuaaw",
    "outputId": "17381730-0637-4116-b98a-581f473eb42f"
   },
   "outputs": [
    {
     "data": {
      "text/plain": [
       "tensor([  101, 24095,  2075,  2007,  1996,  2882,  3211,  5104, 12286,  2015,\n",
       "         1998,  7833,  2015,  2274,  2489,  1998,  3733,  2678, 11834, 18726,\n",
       "         2005,  1996, 11938,  2035,  1996,  4268,  2024,  2725,  2009,  1998,\n",
       "         2061,  2064,  2017,  2065,  2017,  4033,  1056, 17230,  3031,  1037,\n",
       "         2678, 11834,  2007,  1996,  2155,  2664,  1996, 11938,  2024,  1037,\n",
       "         2307,  2051,  2000,  2507,  2009,  1037,  1059, 11961,  2140,  2096,\n",
       "         2045,  2024,  7564,  1997,  1996,  2695, 24095,  2075,  2007,  1996,\n",
       "         2882,  3211,  5104,  2274,  3733,  2678, 11834, 18726,  2005,  1996,\n",
       "        11938, 16770,  7479, 22432,  7959,  2063,  4012, 23012,  7325,  2155,\n",
       "         3808, 24095,  2075,  2007,  1996,  2882,  3211,  5104,  2274,  3733,\n",
       "         2678, 11834, 18726,  2005,  1996, 11938,  2596,  2034,  2006, 22432,\n",
       "         7959,  2063, 23012, 16770,  7479, 22432,  7959,  2063,  4012, 23012,\n",
       "          102,     0,     0,     0,     0,     0,     0,     0,     0,     0,\n",
       "            0,     0,     0,     0,     0,     0,     0,     0,     0,     0,\n",
       "            0,     0,     0,     0,     0,     0,     0,     0,     0,     0,\n",
       "            0,     0,     0,     0,     0,     0,     0,     0,     0,     0,\n",
       "            0,     0,     0,     0,     0,     0,     0,     0,     0,     0,\n",
       "            0,     0,     0,     0,     0,     0,     0,     0,     0,     0,\n",
       "            0,     0,     0,     0,     0,     0,     0,     0,     0,     0,\n",
       "            0,     0,     0,     0,     0,     0,     0,     0,     0,     0,\n",
       "            0,     0,     0,     0,     0,     0,     0,     0,     0,     0,\n",
       "            0,     0,     0,     0,     0,     0,     0,     0,     0,     0,\n",
       "            0,     0,     0,     0,     0,     0,     0,     0,     0,     0,\n",
       "            0,     0,     0,     0,     0,     0,     0,     0,     0,     0,\n",
       "            0,     0,     0,     0,     0,     0,     0,     0,     0,     0,\n",
       "            0,     0,     0,     0,     0,     0,     0,     0,     0,     0,\n",
       "            0,     0,     0,     0,     0,     0,     0,     0,     0,     0,\n",
       "            0,     0,     0,     0,     0,     0,     0,     0,     0,     0,\n",
       "            0,     0,     0,     0,     0,     0,     0,     0,     0,     0,\n",
       "            0,     0,     0,     0,     0,     0,     0,     0,     0,     0,\n",
       "            0,     0,     0,     0,     0,     0,     0,     0,     0,     0,\n",
       "            0,     0,     0,     0,     0,     0,     0,     0,     0,     0,\n",
       "            0,     0,     0,     0,     0,     0,     0,     0,     0,     0,\n",
       "            0,     0,     0,     0,     0,     0,     0,     0,     0,     0,\n",
       "            0,     0,     0,     0,     0,     0,     0,     0,     0,     0,\n",
       "            0,     0,     0,     0,     0,     0,     0,     0,     0,     0,\n",
       "            0,     0,     0,     0,     0,     0,     0,     0,     0,     0,\n",
       "            0,     0,     0,     0,     0,     0,     0,     0,     0,     0,\n",
       "            0,     0,     0,     0,     0,     0,     0,     0,     0,     0,\n",
       "            0,     0,     0,     0,     0,     0,     0,     0,     0,     0,\n",
       "            0,     0,     0,     0,     0,     0,     0,     0,     0,     0,\n",
       "            0,     0,     0,     0,     0,     0,     0,     0,     0,     0,\n",
       "            0,     0,     0,     0,     0,     0,     0,     0,     0,     0,\n",
       "            0,     0,     0,     0,     0,     0,     0,     0,     0,     0,\n",
       "            0,     0,     0,     0,     0,     0,     0,     0,     0,     0,\n",
       "            0,     0,     0,     0,     0,     0,     0,     0,     0,     0,\n",
       "            0,     0,     0,     0,     0,     0,     0,     0,     0,     0,\n",
       "            0,     0,     0,     0,     0,     0,     0,     0,     0,     0,\n",
       "            0,     0,     0,     0,     0,     0,     0,     0,     0,     0,\n",
       "            0,     0,     0,     0,     0,     0,     0,     0,     0,     0,\n",
       "            0,     0,     0,     0,     0,     0,     0,     0,     0,     0,\n",
       "            0,     0])"
      ]
     },
     "execution_count": 31,
     "metadata": {},
     "output_type": "execute_result"
    }
   ],
   "source": [
    "encoded_dataset['train']['input_ids'][0]"
   ]
  },
  {
   "cell_type": "code",
   "execution_count": 32,
   "metadata": {
    "colab": {
     "base_uri": "https://localhost:8080/"
    },
    "id": "_CWpSMVPugal",
    "outputId": "5a4cf03b-0958-42db-ce63-f74112ee7915"
   },
   "outputs": [
    {
     "data": {
      "text/plain": [
       "SequenceClassifierOutput(loss=tensor(0.7759, grad_fn=<BinaryCrossEntropyWithLogitsBackward0>), logits=tensor([[-0.1391,  0.1235, -0.4908,  0.3604, -0.4730,  0.7627,  0.0364,  0.4406,\n",
       "         -0.3080,  0.2050,  0.5862, -0.4603,  0.0987,  0.4429, -0.3821, -0.0355,\n",
       "          0.4458]], grad_fn=<AddmmBackward0>), hidden_states=None, attentions=None)"
      ]
     },
     "execution_count": 32,
     "metadata": {},
     "output_type": "execute_result"
    }
   ],
   "source": [
    "#forward pass\n",
    "outputs = model(input_ids=encoded_dataset['train']['input_ids'][0].unsqueeze(0), labels=encoded_dataset['train'][0]['labels'].unsqueeze(0))\n",
    "outputs"
   ]
  },
  {
   "cell_type": "code",
   "execution_count": 33,
   "metadata": {
    "id": "ig8qOMqXuiEN"
   },
   "outputs": [],
   "source": [
    "trainer = Trainer(\n",
    "    model,\n",
    "    args,\n",
    "    train_dataset= encoded_dataset[\"train\"],\n",
    "    eval_dataset=  encoded_dataset[\"validation\"],\n",
    "    tokenizer=tokenizer,\n",
    "    compute_metrics=compute_metrics\n",
    ")"
   ]
  },
  {
   "cell_type": "code",
   "execution_count": 34,
   "metadata": {
    "colab": {
     "base_uri": "https://localhost:8080/",
     "height": 563
    },
    "id": "jSiy9XLVuji9",
    "outputId": "45d4d2e2-c7a0-445b-8b78-84b685671098"
   },
   "outputs": [
    {
     "name": "stderr",
     "output_type": "stream",
     "text": [
      "/Users/cankrmn/Desktop/ENS 492 Bert venv/lib/python3.9/site-packages/transformers/optimization.py:306: FutureWarning: This implementation of AdamW is deprecated and will be removed in a future version. Use the PyTorch implementation torch.optim.AdamW instead, or set `no_deprecation_warning=True` to disable this warning\n",
      "  warnings.warn(\n",
      "***** Running training *****\n",
      "  Num examples = 680\n",
      "  Num Epochs = 5\n",
      "  Instantaneous batch size per device = 8\n",
      "  Total train batch size (w. parallel, distributed & accumulation) = 8\n",
      "  Gradient Accumulation steps = 1\n",
      "  Total optimization steps = 425\n",
      "  Number of trainable parameters = 109495313\n",
      "You're using a BertTokenizerFast tokenizer. Please note that with a fast tokenizer, using the `__call__` method is faster than using a method to encode the text followed by a call to the `pad` method to get a padded encoding.\n"
     ]
    },
    {
     "data": {
      "text/html": [
       "\n",
       "    <div>\n",
       "      \n",
       "      <progress value='425' max='425' style='width:300px; height:20px; vertical-align: middle;'></progress>\n",
       "      [425/425 1:50:07, Epoch 5/5]\n",
       "    </div>\n",
       "    <table border=\"1\" class=\"dataframe\">\n",
       "  <thead>\n",
       " <tr style=\"text-align: left;\">\n",
       "      <th>Epoch</th>\n",
       "      <th>Training Loss</th>\n",
       "      <th>Validation Loss</th>\n",
       "      <th>F1</th>\n",
       "      <th>Roc Auc</th>\n",
       "      <th>Accuracy</th>\n",
       "    </tr>\n",
       "  </thead>\n",
       "  <tbody>\n",
       "    <tr>\n",
       "      <td>1</td>\n",
       "      <td>No log</td>\n",
       "      <td>0.286221</td>\n",
       "      <td>0.259587</td>\n",
       "      <td>0.574901</td>\n",
       "      <td>0.252941</td>\n",
       "    </tr>\n",
       "    <tr>\n",
       "      <td>2</td>\n",
       "      <td>No log</td>\n",
       "      <td>0.244513</td>\n",
       "      <td>0.480583</td>\n",
       "      <td>0.666267</td>\n",
       "      <td>0.311765</td>\n",
       "    </tr>\n",
       "    <tr>\n",
       "      <td>3</td>\n",
       "      <td>No log</td>\n",
       "      <td>0.230874</td>\n",
       "      <td>0.496552</td>\n",
       "      <td>0.679092</td>\n",
       "      <td>0.358824</td>\n",
       "    </tr>\n",
       "    <tr>\n",
       "      <td>4</td>\n",
       "      <td>No log</td>\n",
       "      <td>0.215276</td>\n",
       "      <td>0.519540</td>\n",
       "      <td>0.688674</td>\n",
       "      <td>0.394118</td>\n",
       "    </tr>\n",
       "    <tr>\n",
       "      <td>5</td>\n",
       "      <td>No log</td>\n",
       "      <td>0.213130</td>\n",
       "      <td>0.532110</td>\n",
       "      <td>0.694231</td>\n",
       "      <td>0.394118</td>\n",
       "    </tr>\n",
       "  </tbody>\n",
       "</table><p>"
      ],
      "text/plain": [
       "<IPython.core.display.HTML object>"
      ]
     },
     "metadata": {},
     "output_type": "display_data"
    },
    {
     "name": "stderr",
     "output_type": "stream",
     "text": [
      "***** Running Evaluation *****\n",
      "  Num examples = 170\n",
      "  Batch size = 8\n",
      "Saving model checkpoint to bert-finetuned-sem_eval-english/checkpoint-85\n",
      "Configuration saved in bert-finetuned-sem_eval-english/checkpoint-85/config.json\n",
      "Model weights saved in bert-finetuned-sem_eval-english/checkpoint-85/pytorch_model.bin\n",
      "tokenizer config file saved in bert-finetuned-sem_eval-english/checkpoint-85/tokenizer_config.json\n",
      "Special tokens file saved in bert-finetuned-sem_eval-english/checkpoint-85/special_tokens_map.json\n",
      "***** Running Evaluation *****\n",
      "  Num examples = 170\n",
      "  Batch size = 8\n",
      "Saving model checkpoint to bert-finetuned-sem_eval-english/checkpoint-170\n",
      "Configuration saved in bert-finetuned-sem_eval-english/checkpoint-170/config.json\n",
      "Model weights saved in bert-finetuned-sem_eval-english/checkpoint-170/pytorch_model.bin\n",
      "tokenizer config file saved in bert-finetuned-sem_eval-english/checkpoint-170/tokenizer_config.json\n",
      "Special tokens file saved in bert-finetuned-sem_eval-english/checkpoint-170/special_tokens_map.json\n",
      "***** Running Evaluation *****\n",
      "  Num examples = 170\n",
      "  Batch size = 8\n",
      "Saving model checkpoint to bert-finetuned-sem_eval-english/checkpoint-255\n",
      "Configuration saved in bert-finetuned-sem_eval-english/checkpoint-255/config.json\n",
      "Model weights saved in bert-finetuned-sem_eval-english/checkpoint-255/pytorch_model.bin\n",
      "tokenizer config file saved in bert-finetuned-sem_eval-english/checkpoint-255/tokenizer_config.json\n",
      "Special tokens file saved in bert-finetuned-sem_eval-english/checkpoint-255/special_tokens_map.json\n",
      "***** Running Evaluation *****\n",
      "  Num examples = 170\n",
      "  Batch size = 8\n",
      "Saving model checkpoint to bert-finetuned-sem_eval-english/checkpoint-340\n",
      "Configuration saved in bert-finetuned-sem_eval-english/checkpoint-340/config.json\n",
      "Model weights saved in bert-finetuned-sem_eval-english/checkpoint-340/pytorch_model.bin\n",
      "tokenizer config file saved in bert-finetuned-sem_eval-english/checkpoint-340/tokenizer_config.json\n",
      "Special tokens file saved in bert-finetuned-sem_eval-english/checkpoint-340/special_tokens_map.json\n",
      "***** Running Evaluation *****\n",
      "  Num examples = 170\n",
      "  Batch size = 8\n",
      "Saving model checkpoint to bert-finetuned-sem_eval-english/checkpoint-425\n",
      "Configuration saved in bert-finetuned-sem_eval-english/checkpoint-425/config.json\n",
      "Model weights saved in bert-finetuned-sem_eval-english/checkpoint-425/pytorch_model.bin\n",
      "tokenizer config file saved in bert-finetuned-sem_eval-english/checkpoint-425/tokenizer_config.json\n",
      "Special tokens file saved in bert-finetuned-sem_eval-english/checkpoint-425/special_tokens_map.json\n",
      "\n",
      "\n",
      "Training completed. Do not forget to share your model on huggingface.co/models =)\n",
      "\n",
      "\n",
      "Loading best model from bert-finetuned-sem_eval-english/checkpoint-425 (score: 0.5321100917431193).\n"
     ]
    },
    {
     "data": {
      "text/plain": [
       "TrainOutput(global_step=425, training_loss=0.2526123944450827, metrics={'train_runtime': 6625.2851, 'train_samples_per_second': 0.513, 'train_steps_per_second': 0.064, 'total_flos': 894698068992000.0, 'train_loss': 0.2526123944450827, 'epoch': 5.0})"
      ]
     },
     "execution_count": 34,
     "metadata": {},
     "output_type": "execute_result"
    }
   ],
   "source": [
    "trainer.train()"
   ]
  },
  {
   "cell_type": "markdown",
   "metadata": {
    "id": "GtJbw1PauYxL"
   },
   "source": [
    "## Evaluate"
   ]
  },
  {
   "cell_type": "code",
   "execution_count": 36,
   "metadata": {
    "id": "R1uhfkTJun5B"
   },
   "outputs": [
    {
     "name": "stderr",
     "output_type": "stream",
     "text": [
      "***** Running Evaluation *****\n",
      "  Num examples = 150\n",
      "  Batch size = 8\n"
     ]
    },
    {
     "name": "stdout",
     "output_type": "stream",
     "text": [
      "<transformers.trainer.Trainer object at 0x16a5c69a0>\n"
     ]
    }
   ],
   "source": [
    "# trainer.evaluate()\n",
    "trainer.evaluate(eval_dataset=encoded_dataset['test'])"
   ]
  },
  {
   "cell_type": "markdown",
   "metadata": {
    "id": "k9U_oOOFutfx"
   },
   "source": [
    "## Inference\n",
    "\n",
    "Let's test the model on a new sentence:"
   ]
  },
  {
   "cell_type": "code",
   "execution_count": 38,
   "metadata": {
    "id": "YjbyUhn_ut8X"
   },
   "outputs": [
    {
     "name": "stdout",
     "output_type": "stream",
     "text": [
      "SequenceClassifierOutput(loss=None, logits=tensor([[-2.8815, -2.4201, -2.4742, -0.7778, -1.9879, -2.9931, -2.8872, -1.8126,\n",
      "         -3.1530, -2.9171, -2.5911, -3.2919, -2.5013, -2.2084, -0.4374, -1.7543,\n",
      "          0.0959]], grad_fn=<AddmmBackward0>), hidden_states=None, attentions=None)\n"
     ]
    }
   ],
   "source": [
    "text = \"Apple Patches Two iOS Zero-Days Abused for Years\\nhttps://threatpost.com/apple-patches-two-ios-zero-days-abused-for-years/155042/\\n\\nResearchers revealed two zero-day security vulnerabilities affecting Apple's stock Mail app on iOS devices.\"\n",
    "\n",
    "encoding = tokenizer(text, return_tensors=\"pt\")\n",
    "encoding = {k: v.to(trainer.model.device) for k,v in encoding.items()}\n",
    "\n",
    "outputs = trainer.model(**encoding)\n",
    "\n",
    "print(outputs)"
   ]
  },
  {
   "cell_type": "markdown",
   "metadata": {
    "id": "TzXpbpSCuyMh"
   },
   "source": [
    "The logits that come out of the model are of shape (batch_size, num_labels). As we are only forwarding a single sentence through the model, the `batch_size` equals 1. The logits is a tensor that contains the (unnormalized) scores for every individual label."
   ]
  },
  {
   "cell_type": "code",
   "execution_count": 40,
   "metadata": {
    "id": "IHQn9YVVuwvo"
   },
   "outputs": [
    {
     "data": {
      "text/plain": [
       "torch.Size([1, 17])"
      ]
     },
     "execution_count": 40,
     "metadata": {},
     "output_type": "execute_result"
    }
   ],
   "source": [
    "logits = outputs.logits\n",
    "logits.shape"
   ]
  },
  {
   "cell_type": "markdown",
   "metadata": {
    "id": "bykRrjEfu0D4"
   },
   "source": [
    "To turn them into actual predicted labels, we first apply a sigmoid function independently to every score, such that every score is turned into a number between 0 and 1, that can be interpreted as a \"probability\" for how certain the model is that a given class belongs to the input text.\n",
    "\n",
    "Next, we use a threshold (typically, 0.5) to turn every probability into either a 1 (which means, we predict the label for the given example) or a 0 (which means, we don't predict the label for the given example)."
   ]
  },
  {
   "cell_type": "code",
   "execution_count": 41,
   "metadata": {
    "id": "N4UyBQD-uyyo"
   },
   "outputs": [
    {
     "name": "stdout",
     "output_type": "stream",
     "text": [
      "['cyber attack']\n"
     ]
    }
   ],
   "source": [
    "# apply sigmoid + threshold\n",
    "text = \"Apple Patches Two iOS Zero-Days Abused for Years\\nhttps://threatpost.com/apple-patches-two-ios-zero-days-abused-for-years/155042/\\n\\nResearchers revealed two zero-day security vulnerabilities affecting Apple's stock Mail app on iOS devices.\"\n",
    "sigmoid = torch.nn.Sigmoid()\n",
    "probs = sigmoid(logits.squeeze().cpu())\n",
    "predictions = np.zeros(probs.shape)\n",
    "predictions[np.where(probs >= 0.5)] = 1\n",
    "# turn predicted id's into actual label names\n",
    "predicted_labels = [id2label[idx] for idx, label in enumerate(predictions) if label == 1.0]\n",
    "print(predicted_labels)"
   ]
  },
  {
   "cell_type": "code",
   "execution_count": 43,
   "metadata": {},
   "outputs": [
    {
     "ename": "TypeError",
     "evalue": "save_metrics() missing 2 required positional arguments: 'split' and 'metrics'",
     "output_type": "error",
     "traceback": [
      "\u001b[0;31m---------------------------------------------------------------------------\u001b[0m",
      "\u001b[0;31mTypeError\u001b[0m                                 Traceback (most recent call last)",
      "Cell \u001b[0;32mIn [43], line 1\u001b[0m\n\u001b[0;32m----> 1\u001b[0m \u001b[43mtrainer\u001b[49m\u001b[38;5;241;43m.\u001b[39;49m\u001b[43msave_metrics\u001b[49m\u001b[43m(\u001b[49m\u001b[43m)\u001b[49m\n",
      "\u001b[0;31mTypeError\u001b[0m: save_metrics() missing 2 required positional arguments: 'split' and 'metrics'"
     ]
    }
   ],
   "source": [
    "trainer.save_metrics()"
   ]
  },
  {
   "cell_type": "code",
   "execution_count": null,
   "metadata": {},
   "outputs": [],
   "source": []
  }
 ],
 "metadata": {
  "kernelspec": {
   "display_name": "Python 3.11.0 ('venv': venv)",
   "language": "python",
   "name": "python3"
  },
  "language_info": {
   "codemirror_mode": {
    "name": "ipython",
    "version": 3
   },
   "file_extension": ".py",
   "mimetype": "text/x-python",
   "name": "python",
   "nbconvert_exporter": "python",
   "pygments_lexer": "ipython3",
   "version": "3.11.0"
  },
  "vscode": {
   "interpreter": {
    "hash": "a4a161252db59fab3a59ea67bc9ddff194f6949cc2b93320e6d42b4ff9dbbca4"
   }
  }
 },
 "nbformat": 4,
 "nbformat_minor": 2
}
