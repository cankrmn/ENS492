{
  "nbformat": 4,
  "nbformat_minor": 0,
  "metadata": {
    "colab": {
      "provenance": [],
      "collapsed_sections": [
        "bPoVEV9py2qe",
        "xW7gABQwzRx9",
        "MITWPCtBkhCn",
        "UQ1XPMH8kYYp",
        "vzpoX_VLkcQn"
      ]
    },
    "kernelspec": {
      "name": "python3",
      "display_name": "Python 3"
    },
    "language_info": {
      "name": "python"
    }
  },
  "cells": [
    {
      "cell_type": "markdown",
      "source": [
        "## Initializations"
      ],
      "metadata": {
        "id": "gJJBo0gAzBbt"
      }
    },
    {
      "cell_type": "code",
      "source": [
        "from sklearn.model_selection import GridSearchCV, train_test_split\n",
        "from sklearn.base import TransformerMixin\n",
        "from sklearn.pipeline import Pipeline\n",
        "from sklearn.feature_extraction.text import TfidfVectorizer\n",
        "from sklearn.naive_bayes import GaussianNB\n",
        "from sklearn.linear_model import LogisticRegression\n",
        "from sklearn.metrics import f1_score,confusion_matrix,accuracy_score\n",
        "import numpy as np\n",
        "import pandas as pd"
      ],
      "metadata": {
        "id": "9hsa6Oirz22d"
      },
      "execution_count": null,
      "outputs": []
    },
    {
      "cell_type": "code",
      "source": [
        "from bs4 import BeautifulSoup\n",
        "import requests\n",
        "import string"
      ],
      "metadata": {
        "id": "weAs2Eee72PL"
      },
      "execution_count": null,
      "outputs": []
    },
    {
      "cell_type": "code",
      "source": [
        "header = {\n",
        "  \"user-agent\": \"Mozilla/5.0 (Windows NT 10.0; Win64; x64) AppleWebKit/537.36 (KHTML, like Gecko) Chrome/99.0.4844.82 Safari/537.36\"\n",
        "}"
      ],
      "metadata": {
        "id": "BJ98kQL9ad8a"
      },
      "execution_count": null,
      "outputs": []
    },
    {
      "cell_type": "code",
      "source": [
        "from google.colab import auth\n",
        "auth.authenticate_user()\n",
        "\n",
        "project_id = 'proven-signal-345720'"
      ],
      "metadata": {
        "id": "68co2wOn1rE6"
      },
      "execution_count": null,
      "outputs": []
    },
    {
      "cell_type": "markdown",
      "source": [
        "## Common Functions"
      ],
      "metadata": {
        "id": "bPoVEV9py2qe"
      }
    },
    {
      "cell_type": "code",
      "source": [
        "# Upload Function\n",
        "from googleapiclient.http import MediaFileUpload\n",
        "from googleapiclient.discovery import build\n",
        "gcs_service = build('storage', 'v1')\n",
        "\n",
        "bucket_name = 'website_crawling'\n",
        "\n",
        "def uploadFile(fileName):\n",
        "  media = MediaFileUpload('/content/' + fileName, \n",
        "                          mimetype='text/plain',\n",
        "                          resumable=True)\n",
        "\n",
        "  request = gcs_service.objects().insert(bucket=bucket_name, \n",
        "                                        name=fileName,\n",
        "                                        media_body=media)\n",
        "\n",
        "  response = None\n",
        "  while response is None:\n",
        "    # _ is a placeholder for a progress object that we ignore.\n",
        "    # (Our file is small, so we skip reporting progress.)\n",
        "    _, response = request.next_chunk()\n",
        "\n",
        "  print('Upload complete')  \n",
        "  print('https://console.cloud.google.com/storage/browser?project={}'.format(project_id)) "
      ],
      "metadata": {
        "id": "Vg-r3OW73omu"
      },
      "execution_count": null,
      "outputs": []
    },
    {
      "cell_type": "code",
      "source": [
        "txt = \"AI will completely automate the network within five years, Juniper CEO Rami Rahim boasted during the company’s Global Summit this week. “I truly believe that just as there is this need today for a self-driving automobile, the future is around a self-driving network where humans literally have to do nothing,” he said. “It's probably weird for people to hear the CEO of a networking company say that… but that's exactly what we should be wishing for.” Rahim believes AI-driven automation is the latest phase in computer networking’s evolution, which began with the rise of TCP/IP and the internet, was accelerated by faster and more efficient silicon, and then made manageable by advances in software. “Collectively, we as an industry are sitting on a goldmine of information, and yet it is untapped,” Rahim said. “We as a planet are accumulating data at an unprecedented rate. Something like 90 percent of all the data in the world today has been accumulated in just the last two years alone.”\"\n"
      ],
      "metadata": {
        "id": "IbyhWfg44LXH"
      },
      "execution_count": null,
      "outputs": []
    },
    {
      "cell_type": "code",
      "source": [
        "import nltk\n",
        "nltk.download('punkt')\n",
        "nltk.download('stopwords')\n",
        "from nltk.corpus import stopwords\n",
        "from nltk.tokenize import word_tokenize\n",
        "\n",
        "from nltk.tokenize import sent_tokenize, word_tokenize\n",
        "# from nltk.stem import PorterStemmer\n",
        "# porter=PorterStemmer()\n",
        "\n",
        "from nltk.stem.snowball import SnowballStemmer\n",
        "englishStemmer=SnowballStemmer(\"english\")\n",
        "\n",
        "nltk.download('wordnet')\n",
        "from nltk.stem import WordNetLemmatizer\n",
        "wordnet_lemmatizer = WordNetLemmatizer()\n",
        "\n",
        "from keras.preprocessing.text import Tokenizer\n",
        "\n",
        "# remove stopwords\n",
        "def removeStopWords(sentence):\n",
        "  stop_words = set(stopwords.words('english'))\n",
        "  word_tokens = word_tokenize(sentence)\n",
        "  filtered_sentence = [w.lower() for w in word_tokens if not w.lower() in stop_words]\n",
        "\n",
        "  # filtered_sentence to single string\n",
        "  newSentence = \"\"\n",
        "\n",
        "  for word in filtered_sentence:\n",
        "    newSentence += word + \" \"\n",
        "\n",
        "  newSentence = newSentence.translate(newSentence.maketrans(\"\", \"\", string.punctuation + \"“”’0123456789\"))\n",
        "\n",
        "  return newSentence\n",
        "\n",
        "\n",
        "# tokenize the sentence\n",
        "def tokenize(sentence):\n",
        "  \n",
        "  tokenizer = Tokenizer()\n",
        "  tokenizer.fit_on_texts(sentence)\n",
        "  sequences = tokenizer.texts_to_sequences(sentence)\n",
        "\n",
        "\n",
        "  word_index = tokenizer.word_index\n",
        "  bow = {}\n",
        "  for key in word_index:\n",
        "      bow[key] = sequences[0].count(word_index[key])\n",
        "\n",
        "  return bow\n",
        "\n",
        "# print(tokenize())\n",
        "\n",
        "def stemSentence(sentence):\n",
        "  token_words=word_tokenize(sentence)\n",
        "  stem_sentence=[]\n",
        "  for word in token_words:\n",
        "    w = (wordnet_lemmatizer.lemmatize(word, pos=\"n\"))\n",
        "    stem_sentence.append(englishStemmer.stem(w))\n",
        "    stem_sentence.append(\" \")\n",
        "  return \"\".join(stem_sentence)\n",
        "\n",
        "def mostFrequent(List):\n",
        "  counter = 0\n",
        "  num = List[0]\n",
        "    \n",
        "  for i in List:\n",
        "    curr_frequency = List.count(i)\n",
        "    if(curr_frequency> counter):\n",
        "      counter = curr_frequency\n",
        "      num = i\n",
        "\n",
        "  return num\n",
        "\n",
        "def mostFrequentList(List):\n",
        "  counter = 0\n",
        "  num = []\n",
        "    \n",
        "  for i in List:\n",
        "    curr_frequency = List.count(i)\n",
        "    if(curr_frequency> counter):\n",
        "      counter = curr_frequency\n",
        "      num = [i]\n",
        "    elif(curr_frequency == counter and i not in num):\n",
        "      num.append(i)\n",
        "\n",
        "  return num\n",
        "\n",
        "def scrapeAll(url):\n",
        "\n",
        "  newsList = []\n",
        "  html_text = requests.get(url, headers = header).text\n",
        "  soup = BeautifulSoup(html_text, \"lxml\")\n",
        "  allDivs = soup.find_all(\"a\") # find all \"a\" tags\n",
        "  # allDivs = soup.find_all(\"div\") # find all \"div\" tags\n",
        "\n",
        "  classListArr = []\n",
        "\n",
        "  for div in allDivs: \n",
        "    # if(div.attrs.get(\"class\") and len(div.text.strip()) > 0 and div.attrs.get(\"class\")[0].find(\"image\") == -1 and div.attrs.get(\"class\")[0].find(\"img\") == -1):\n",
        "    if(div.attrs.get(\"class\") and len(div.text.strip()) > 0):\n",
        "      classListArr.append(div.attrs.get(\"class\")[0])\n",
        "\n",
        "\n",
        "  # print(classListArr)\n",
        "  commonClass = mostFrequent(classListArr) # get the most common class name\n",
        "  # print(commonClass)\n",
        "  allNews = soup.find_all(\"a\", class_ = commonClass) # get all the \"a\" tags with most common class name\n",
        "  # allNews = soup.find_all(\"a\", class_ = commonClass) # get all the \"div\" tags with most common class name\n",
        "\n",
        "  # for new in allNews:\n",
        "  #   print(new)\n",
        "\n",
        "  # print(allTitles)\n",
        "\n",
        "\n",
        "  for news in allNews:\n",
        "    dic = {}\n",
        "    newsText = news.text.strip()\n",
        "    newsLink = news.get(\"href\")\n",
        "    if(newsLink.find(\"http\") == -1): # if link is broken\n",
        "      newUrl = url\n",
        "      if(len(url.split(\"/\")) > 3):\n",
        "        # newUrl = url[:url.rfind(\"/\")]\n",
        "        newUrl = url.split(\"/\")[0] + \"//\" + url.split(\"/\")[2]\n",
        "      newsLink = newUrl + newsLink\n",
        "\n",
        "    # dic[\"text\"] = newsText\n",
        "    dic[\"header\"] = newsText\n",
        "    dic[\"link\"] = newsLink\n",
        "    newsList.append(dic)\n",
        "    # print(f'text: {newsText} \\nlink: {newsLink}')\n",
        "    # print(f'text: {newsText}')\n",
        "    # print(f'link: {newsLink}\\n')\n",
        "\n",
        "  return newsList\n",
        "\n",
        "def take_second(elem):\n",
        "    return elem[1]\n",
        "\n",
        "def sortWordOccurences(sentence):\n",
        "  x = removeStopWords(sentence)\n",
        "  x = x.translate(x.maketrans(\"\", \"\", string.punctuation + \"“”’0123456789\"))\n",
        "  x= tokenize([x])\n",
        "  x = sorted(x.items(), reverse = True, key = take_second)\n",
        "\n",
        "  return x"
      ],
      "metadata": {
        "id": "LgRGjcY4GEYr",
        "colab": {
          "base_uri": "https://localhost:8080/"
        },
        "outputId": "af0ea714-d3c6-4ecc-f69d-220e0f0089cd"
      },
      "execution_count": null,
      "outputs": [
        {
          "output_type": "stream",
          "name": "stderr",
          "text": [
            "[nltk_data] Downloading package punkt to /root/nltk_data...\n",
            "[nltk_data]   Unzipping tokenizers/punkt.zip.\n",
            "[nltk_data] Downloading package stopwords to /root/nltk_data...\n",
            "[nltk_data]   Unzipping corpora/stopwords.zip.\n",
            "[nltk_data] Downloading package wordnet to /root/nltk_data...\n"
          ]
        }
      ]
    },
    {
      "cell_type": "code",
      "source": [
        "# x = stemSentence(\"This, however has a flaw. If we are computing probability for a word which is in our vocabulary V but not in a specific class, the probability for that pair will be 0. But since we multiply all feature likelihoods together, zero probabilities will cause the probability of the entire class to be zero as well. For this we need to add a smoothing technique. Smoothing techniques are popular in the language processing algorithms. Without getting too much into them, the technique we will be using is the Laplace one which consists in adding + 1 to our calculations. The formula will end up looking like this:\")\n",
        "# x = x.translate(x.maketrans(\"\", \"\", string.punctuation + \"“”0123456789\"))\n",
        "# x.split(\" \")"
      ],
      "metadata": {
        "id": "t4EWq8wWnY7j"
      },
      "execution_count": null,
      "outputs": []
    },
    {
      "cell_type": "code",
      "source": [
        "def tokenizeNewsText(url):\n",
        "  data = requests.get(url, headers = header).text\n",
        "  new_soup = BeautifulSoup(data, \"lxml\")\n",
        "  ps = new_soup.find_all(\"p\")\n",
        "\n",
        "  myStr = \"\"\n",
        "\n",
        "  for p in ps:\n",
        "    # print(p.text)\n",
        "    myStr += p.text + \" \" \n",
        "\n",
        "\n",
        "  myStr = myStr.translate(myStr.maketrans(\"\", \"\", string.punctuation + \"“”0123456789\"))\n",
        "\n",
        "  sentence = removeStopWords(myStr)\n",
        "  sentence = stemSentence(sentence)\n",
        "  return tokenize([sentence])\n",
        "\n",
        "  # print(stemSentence(sentence))\n",
        "  # print(\"\\n\" + sentence)\n",
        "  # print(\"\\n\\n\", myStr)"
      ],
      "metadata": {
        "id": "s-tXSEkoRKR-"
      },
      "execution_count": null,
      "outputs": []
    },
    {
      "cell_type": "code",
      "source": [
        "import re\n",
        "\n",
        "def cleanHtml(sentence):\n",
        "    cleanr = re.compile('<.*?>')\n",
        "    cleantext = re.sub(cleanr, ' ',sentence)\n",
        "    return cleantext\n",
        "\n",
        "def cleanPunc(sentence): #function to clean the word of any punctuation or special characters\n",
        "    cleaned = re.sub(r'[?|!|\\'|\"|#]',r'',sentence)\n",
        "    cleaned = re.sub(r'[.|,|)|(|\\|/]',r' ',cleaned)\n",
        "    cleaned = cleaned.strip()\n",
        "    cleaned = cleaned.replace(\"\\n\",\" \")\n",
        "    return cleaned\n",
        "\n",
        "def keepAlpha(sentence):\n",
        "    alpha_sent = \"\"\n",
        "    for word in sentence.split():\n",
        "        alpha_word = re.sub('[^a-z A-Z]+', ' ', word)\n",
        "        alpha_sent += alpha_word\n",
        "        alpha_sent += \" \"\n",
        "    alpha_sent = alpha_sent.strip()\n",
        "    return alpha_sent\n",
        "\n",
        "def processText(text):\n",
        "  text = text.lower()\n",
        "  text = cleanHtml(text)\n",
        "  text = cleanPunc(text)\n",
        "  text = keepAlpha(text)\n",
        "  print(text)\n",
        "  return text\n",
        "\n",
        "processText(txt)\n",
        "print(removeStopWords(txt.lower()))"
      ],
      "metadata": {
        "colab": {
          "base_uri": "https://localhost:8080/"
        },
        "id": "ChRf_SLN0O9H",
        "outputId": "31069651-947d-42e7-9bcd-d0876549bb7d"
      },
      "execution_count": null,
      "outputs": [
        {
          "output_type": "stream",
          "name": "stdout",
          "text": [
            "ai will completely automate the network within five years juniper ceo rami rahim boasted during the company s global summit this week  i truly believe that just as there is this need today for a self driving automobile the future is around a self driving network where humans literally have to do nothing   he said  its probably weird for people to hear the ceo of a networking company say that  but thats exactly what we should be wishing for   rahim believes ai driven automation is the latest phase in computer networking s evolution which began with the rise of tcp ip and the internet was accelerated by faster and more efficient silicon and then made manageable by advances in software  collectively we as an industry are sitting on a goldmine of information and yet it is untapped   rahim said  we as a planet are accumulating data at an unprecedented rate something like   percent of all the data in the world today has been accumulated in just the last two years alone\n",
            "ai completely automate network within five years  juniper ceo rami rahim boasted company  global summit week   truly believe need today selfdriving automobile  future around selfdriving network humans literally nothing   said   s probably weird people hear ceo networking company say that… s exactly wishing for  rahim believes aidriven automation latest phase computer networking  evolution  began rise tcpip internet  accelerated faster efficient silicon  made manageable advances software   collectively  industry sitting goldmine information  yet untapped   rahim said   planet accumulating data unprecedented rate  something like  percent data world today accumulated last two years alone   \n"
          ]
        }
      ]
    },
    {
      "cell_type": "code",
      "source": [],
      "metadata": {
        "id": "gjOIT71aVSlX"
      },
      "execution_count": null,
      "outputs": []
    },
    {
      "cell_type": "markdown",
      "source": [
        "## DARKREADING"
      ],
      "metadata": {
        "id": "4-z2bXhey9Ts"
      }
    },
    {
      "cell_type": "code",
      "source": [
        "# DARKREADING.COM\n",
        "\n",
        "def scrapeDarkReading():\n",
        "  newsList = []\n",
        "  html_text = requests.get('https://www.theregister.com/security/', headers = header).text\n",
        "  soup = BeautifulSoup(html_text, \"lxml\")\n",
        "  allTitles = soup.find_all(\"a\", class_ = \"story_link\")\n",
        "\n",
        "  for titles in allTitles:\n",
        "    dic = {}\n",
        "    title_link = \"https://www.theregister.com\" + titles[\"href\"]\n",
        "    title_text = titles.text\n",
        "    dic[\"title\"] = title_text\n",
        "    dic[\"link\"] = title_link\n",
        "    newsList.append(dic)\n",
        "\n",
        "  # print(f'text: {title_text} \\nlink: {title_link}')\n",
        "  return newsList\n",
        "\n",
        "print(scrapeDarkReading())"
      ],
      "metadata": {
        "id": "H65LCQj_YzbY",
        "colab": {
          "base_uri": "https://localhost:8080/"
        },
        "outputId": "0b5fbcb5-e024-4de5-8031-fc32d14277ca"
      },
      "execution_count": null,
      "outputs": [
        {
          "output_type": "stream",
          "name": "stdout",
          "text": [
            "[{'title': '\\n\\n\\nSo, the US, China, and Russia walk into an infosec conference\\nSuffice to say things got a little awkward\\n\\nCSO19 Oct 2022 | 2\\n\\n', 'link': 'https://www.theregister.com/2022/10/19/singapore_international_cyber_week/'}, {'title': '\\n\\n\\nTear in Microsoft Azure Service Fabric can give attackers full admin privileges\\nOrca Security disclosed the bug, and older versions remain vulnerable\\n\\nResearch19 Oct 2022 | \\n\\n', 'link': 'https://www.theregister.com/2022/10/19/azure_service_fabric_vulnerability/'}, {'title': '\\n\\n\\nThe infinite beauty of the hive mind\\n\\nWebinar Looking at the future of crowdsourced security\\nWebinar\\n\\n', 'link': 'https://www.theregister.com/2022/10/19/the_infinite_beauty_of_the/'}, {'title': \"\\n\\n\\nGermany stands down cyber boss over Russian ties\\nInvolvement with lobby group that welcomed Putin's pals presses buttons\\n\\nSecurity19 Oct 2022 | 8\\n\\n\", 'link': 'https://www.theregister.com/2022/10/19/germany_stands_down_cyber_boss/'}, {'title': \"\\n\\nFBI: Looking for Biden's student loan forgiveness? Watch out for these scams\\nYou really think someone would do that? Just go on the internet and steal identities?\\n\\nCyber-crime19 Oct 2022 | 5\\n\\n\", 'link': 'https://www.theregister.com/2022/10/19/fbi_warns_student_loan_forgiveness/'}, {'title': '\\n\\nBuild some flexibility into your cyber learning\\nTraining should bend around the many moving parts in your daily schedule, not the other way around.\\nSponsored Post\\n\\n', 'link': 'https://www.theregister.com/2022/10/18/build_some_flexibility_into_your/'}, {'title': \"\\n\\n'Fully undetectable' Windows backdoor gets detected\\nSafeBreach supposedly spots somewhat stealthy subversive software\\n\\nResearch18 Oct 2022 | 15\\n\\n\", 'link': 'https://www.theregister.com/2022/10/18/fully_undetectable_windows_powershell_backdoor/'}, {'title': '\\n\\nNSA urges enterprises to watch China, Taiwan tensions\\nHave you thought about your supply chains, partnerships, and how far they reach?\\n\\nCybersecurity Month18 Oct 2022 | 2\\n\\n', 'link': 'https://www.theregister.com/2022/10/18/as_chinataiwan_tensions_mount_hows/'}, {'title': '\\n\\n\\nPutting on the Red Hat\\nKeeping on top of Linux enterprise security requirements\\nWebinar\\n\\n', 'link': 'https://www.theregister.com/2022/10/18/putting_on_the_red_hat/'}, {'title': '\\n\\n\\nUpstart Ransom Cartel linked to REvil veterans\\nLesser of two REvils? There’s a relationship, say infosec bods, but not enough to say one evolved into the other\\n\\nCyber-crime18 Oct 2022 | 4\\n\\n', 'link': 'https://www.theregister.com/2022/10/18/revil_ransom_cartel_research/'}, {'title': '\\n\\n\\nEver considered using Confidential Computing to beef up cloud data protection?\\nThis is your chance to let us know, so we can report back to you\\nSponsored Feature\\n\\n', 'link': 'https://www.theregister.com/2022/10/18/ever_considered_using_confidential_computing/'}, {'title': '\\n\\n\\nImagine surviving a wiper attack only for ransomware to scramble your restored files\\nThen again, imagine being invaded by Russia\\n\\nCybersecurity Month18 Oct 2022 | 4\\n\\n', 'link': 'https://www.theregister.com/2022/10/18/prestige_ransomware_microsoft_ukraine/'}, {'title': '\\n\\nJapanese giants to offer security-as-a-service for connected cars\\nNTT Communications and Toyota’s parts maker Denso plan a ‘Security Operation Centre for Vehicles’\\n\\nSecurity18 Oct 2022 | 18\\n\\n', 'link': 'https://www.theregister.com/2022/10/18/ntt_denso_security_for_cars/'}, {'title': '\\n\\nCops swoop after crooks use wireless keyfob hack to steal cars\\nHotwiring is so 2021\\n\\nCyber-crime18 Oct 2022 | 108\\n\\n', 'link': 'https://www.theregister.com/2022/10/18/car_thieves_arrested_keyless_tech/'}, {'title': \"\\n\\nEx-WSJ reporter says he was framed in elaborate 'hack-and-smear' operation\\nWild story of a multinational law firm, cyber-mercenaries, a sheikh, and more\\n\\nCybersecurity Month18 Oct 2022 | 9\\n\\n\", 'link': 'https://www.theregister.com/2022/10/18/jay_solomon_lawsuit_hack_and_smear/'}, {'title': \"\\n\\nInterpol busts global 'Black Axe' cyber-fraud suspects\\n75 collars felt, $1.2m seized in bid to cut off crime network’s financial lifeline\\n\\nCyber-crime17 Oct 2022 | 3\\n\\n\", 'link': 'https://www.theregister.com/2022/10/17/interpol_black_axe_fraud/'}, {'title': '\\n\\nChina-linked Budworm burrows hole in US legislature systems\\n\\nIn brief Also, Senator Warren says banks need to grow the Zelle up, an AirTag does some good – if you’re a Democrat, and more\\n\\nSecurity17 Oct 2022 | 6\\n\\n', 'link': 'https://www.theregister.com/2022/10/17/in-brief-security/'}, {'title': \"\\n\\nPhishing works so well crims won't bother with deepfakes, says Sophos chap\\nPeople reveal passwords if you ask nicely, so AI panic is overblown\\n\\nResearch17 Oct 2022 | 15\\n\\n\", 'link': 'https://www.theregister.com/2022/10/17/phishing_beats_deepfakes/'}, {'title': \"\\n\\nXi Jinping hails 'improved cyber ecology', says state to direct strategic tech research\\n\\nAsia In Brief Samsung and TSMC hit with chip tech patent suit; Ant Group's DB hits AWS; PayPal drops Hong Kong rights group; and more\\n\\nSecurity16 Oct 2022 | 5\\n\\n\", 'link': 'https://www.theregister.com/2022/10/16/asia_tech_roundup/'}, {'title': '\\n\\nInfosec still (mostly) a boys club\\n\\nFeature Women who do join get paid and promoted less, leave faster. What can be done to stop that?\\n\\nCybersecurity Month15 Oct 2022 | 101\\n\\n', 'link': 'https://www.theregister.com/2022/10/15/infosec_boys_club/'}, {'title': '\\n\\n\\nYouTube loves recommending conservative vids regardless of your beliefs\\nThere goes Woke Big Tech again, downplaying traditional liberal views\\n\\n', 'link': 'https://www.theregister.com/2022/10/18/youtube_algorithm_conservative_content/'}, {'title': \"\\n\\n\\nChina dumps dud chips on Russia, Moscow media moans\\nWhat? Sanctions-busting sellers aren't interested in your complaints? That's a shame\\n\\n\", 'link': 'https://www.theregister.com/2022/10/18/russia_china_semiconductro_failure_rates/'}, {'title': \"\\n\\n\\n'Fully undetectable' Windows backdoor gets detected\\nSafeBreach supposedly spots somewhat stealthy subversive software\\n\\n\", 'link': 'https://www.theregister.com/2022/10/18/fully_undetectable_windows_powershell_backdoor/'}, {'title': '\\n\\n\\nGoogle reveals another experimental operating system: KataOS\\nBased on Rust, on top of seL4 – a big deal in the microkernel world\\n\\n', 'link': 'https://www.theregister.com/2022/10/17/google_kata_os/'}, {'title': '\\n\\n\\nFirefox 106 will let you type directly into browser PDFs\\nSorry Adobe but we can let users type or even hand-write directly\\n\\n', 'link': 'https://www.theregister.com/2022/10/18/firefox_106_arrives/'}, {'title': '\\n\\n\\nCops swoop after crooks use wireless keyfob hack to steal cars\\nHotwiring is so 2021\\n\\n', 'link': 'https://www.theregister.com/2022/10/18/car_thieves_arrested_keyless_tech/'}, {'title': \"\\n\\n\\nCollapsed Arecibo telescope to be replaced by school\\nSpace scientists lament loss, say it won't be the same without actual working instruments\\n\\n\", 'link': 'https://www.theregister.com/2022/10/17/arecibo_telescope_education_center/'}, {'title': '\\n\\n\\nJuno offering Linux-powered tablet PC for pre-order\\nThe company already sells penguin-infested laptops and desktops, but an x86 Linux fondleslab is new\\n\\n', 'link': 'https://www.theregister.com/2022/10/17/juno_tablet/'}, {'title': \"\\n\\n\\nEx-WSJ reporter says he was framed in elaborate 'hack-and-smear' operation\\nWild story of a multinational law firm, cyber-mercenaries, a sheikh, and more\\n\\n\", 'link': 'https://www.theregister.com/2022/10/18/jay_solomon_lawsuit_hack_and_smear/'}, {'title': '\\n\\n\\nUK government in talks with datacenter operators over blackouts\\nBit barns say they need diesel fuel supplies for backup generators\\n\\n', 'link': 'https://www.theregister.com/2022/10/18/uk_government_in_talks_with/'}, {'title': \"\\n\\n\\n'Baby Al Capone' to pay $22m to SIM-swap crypto-heist victim\\nToo young to drive, old enough to bribe AT&T staff, apparently\\n\\nCyber-crime15 Oct 2022 | 18\\n\\n\", 'link': 'https://www.theregister.com/2022/10/15/pinsky_terpin_sim_swap/'}, {'title': \"\\n\\n\\nFYI: Microsoft Office 365 Message Encryption relies on insecure block cipher\\nRedmond says OME isn't supposed to be used for security, just for something else\\n\\nCybersecurity Month14 Oct 2022 | 13\\n\\n\", 'link': 'https://www.theregister.com/2022/10/14/microsoft_office_365_message_encryption/'}, {'title': \"\\n\\n\\nStore credit card numbers in a debug log, lose millions of accounts. Cost? $1.9m\\nThat's roughly 300,000 Shein crop tops\\n\\nCyber-crime14 Oct 2022 | 4\\n\\n\", 'link': 'https://www.theregister.com/2022/10/14/zoetop_data_breach_fine/'}, {'title': '\\n\\n\\nJust how critical is data sovereignty?\\nAnswering our poll questions will give us a clue\\nSponsored Feature\\n\\n', 'link': 'https://www.theregister.com/2022/10/14/just_how_critical_is_data/'}, {'title': \"\\n\\nLockBit 3.0 malware forced NHS tech supplier to shut down hosted sites\\nManaged software provider Advanced admits some customer data 'exfiltrated' in August ransomware attack\\n\\nCyber-crime14 Oct 2022 | 2\\n\\n\", 'link': 'https://www.theregister.com/2022/10/14/nhs_software_hosting_provider_advanced_ransomware_lockbit/'}, {'title': '\\n\\nIndia set to extend deadline for absurd infosec reporting requirements\\n60 days becomes five months and counting, without any indication government can process or learn from flood of trivial incident reports\\n\\nSecurity14 Oct 2022 | 6\\n\\n', 'link': 'https://www.theregister.com/2022/10/14/india_cert_in_reporting_deadline_extension/'}, {'title': \"\\n\\nMormon Church IT ransacked, data stolen by 'state-sponsored' cyber-thieves\\nDon't get your underwear in a twist\\n\\nCyber-crime14 Oct 2022 | 53\\n\\n\", 'link': 'https://www.theregister.com/2022/10/14/mormon_church_hacked/'}, {'title': \"\\n\\nBanks face their 'darkest hour' as malware steps up, maker of antivirus says\\n\\nInterview When I saw it, I had to reverse engineer it, Kaspersky's lead security researcher tells us\\n\\nCybersecurity Month13 Oct 2022 | 17\\n\\n\", 'link': 'https://www.theregister.com/2022/10/13/blacklotus_malware_kaspersky/'}, {'title': '\\n\\n\\nInsurer Medibank hit by targeted cyberattack\\nHot on heels of Optus and Dialog breaches, criminals turn sights to insurance sector\\n\\nCyber-crime13 Oct 2022 | 1\\n\\n', 'link': 'https://www.theregister.com/2022/10/13/mediabank_private_latest_aussie_business/'}, {'title': '\\n\\n\\nGet ready to defend your data against cyber warfare\\nHear intelligence agents and security experts discuss cyber warfare and resilience in a morning of virtual talks\\nSponsored Post\\n\\n', 'link': 'https://www.theregister.com/2022/10/13/get_ready_to_defend_your/'}, {'title': '\\n\\n\\nFinancial watchdogs want to know what traders are talking about on WhatsApp\\nKeen interest in messaging platform follows $2 billion fines in US\\n\\nSecurity13 Oct 2022 | 29\\n\\n', 'link': 'https://www.theregister.com/2022/10/13/whatsapp_trader_comms_regulation/'}, {'title': \"\\n\\n\\nScanning phones to detect child abuse evidence is harmful, 'magical' thinking\\n\\nExclusive Security expert challenges claim that bypassing encryption is essential to protecting kids\\n\\nCybersecurity Month13 Oct 2022 | 140\\n\\n\", 'link': 'https://www.theregister.com/2022/10/13/clientside_scanning_csam_anderson/'}, {'title': '\\n\\nPrison inmate accused of orchestrating $11M fraud using cell cellphone\\nJudge rejects defense effort to toss warrantless device search on privacy grounds\\n\\nSecurity13 Oct 2022 | 28\\n\\n', 'link': 'https://www.theregister.com/2022/10/13/prison_11m_schwab_fraud/'}, {'title': \"\\n\\nUS election workers slammed with phishing, malware-stuffed emails\\nIt's almost like there's some midterms coming up\\n\\nCybersecurity Month12 Oct 2022 | 5\\n\\n\", 'link': 'https://www.theregister.com/2022/10/12/us_election_workers_phishing/'}, {'title': \"\\n\\nHospital giant's IT still poorly a week after suspected ransomware infection\\n\\nUpdated Insiders tell of struggle to access patient info, meds without working computers\\n\\nCybersecurity Month12 Oct 2022 | 10\\n\\n\", 'link': 'https://www.theregister.com/2022/10/12/hospital_outages_ransomware/'}, {'title': '\\n\\nMicrosoft tries again to ignite interest in DevOps cloud security\\n\\nIgnite Identity governance and SOCs also on the menu\\n\\nSecurity12 Oct 2022 | 3\\n\\n', 'link': 'https://www.theregister.com/2022/10/12/microsoft_ignite_security/'}, {'title': '\\n\\n\\nHow Wi-Fi spy drones snooped on financial firm\\nCheck your rooftops: Flying gear caught carrying network-intrusion kit\\n\\nCyber-crime12 Oct 2022 | 35\\n\\n', 'link': 'https://www.theregister.com/2022/10/12/drone-roof-attack/'}, {'title': '\\n\\n\\nCrypto exchange Bittrex coughs up $53m to end claims of US sanctions busting\\nFeds also said the biz sucked at policing transactions for suspicious activity – as if!\\n\\nCyber-crime11 Oct 2022 | 12\\n\\n', 'link': 'https://www.theregister.com/2022/10/11/crypto_exchange_bittrex_settlement/'}, {'title': \"\\n\\n\\nIt’s Patch Tuesday and still no fix for ProxyNotShell Microsoft Exchange holes\\n\\nPatch Tuesday And for bonus points, there's a Windows flaw under active exploit\\n\\nPatches11 Oct 2022 | 21\\n\\n\", 'link': 'https://www.theregister.com/2022/10/11/october_patch_tuesday/'}, {'title': \"\\n\\n\\nChina could use Digital Yuan to swerve Russia-style sanctions\\nGCHQ spy boss talks up threat of east's tech dominance, says Putin has 'badly misjudged' Ukraine attack\\n\\nSecurity11 Oct 2022 | 26\\n\\n\", 'link': 'https://www.theregister.com/2022/10/11/gchq_fleming_russia_china_currency/'}, {'title': \"\\n\\nIf you're wondering why Google blew $5b on Mandiant, this may shed some light\\n\\nGCN Automating infosec knowhow, essentially\\n\\nSecurity11 Oct 2022 | 7\\n\\n\", 'link': 'https://www.theregister.com/2022/10/11/google_mandiant_brain/'}, {'title': \"\\n\\nFortinet warns of critical flaw in its security appliance OSes, admin panels\\nNaturally, they're already under attack – so you know what to do next\\n\\nPatches11 Oct 2022 | 15\\n\\n\", 'link': 'https://www.theregister.com/2022/10/11/fortinet_critical_flaw/'}, {'title': '\\n\\nCan IAM help save on cyber insurance?\\nDemonstrating a robust defense can help underwrite cyber risk for customers and providers, says One Identity\\nSponsored Feature\\n\\n', 'link': 'https://www.theregister.com/2022/10/11/can_iam_help_save_on/'}, {'title': '\\n\\nOptus data breach prompts pincer movement of twin regulatory probes\\nData retention requirements to be considered alongside infosec failings\\n\\nSecurity11 Oct 2022 | 4\\n\\n', 'link': 'https://www.theregister.com/2022/10/11/optus_acma_oaic_dual_probes/'}, {'title': \"\\n\\n\\nToyota dev left key to customer info on public GitHub page for five years\\n'Oh what a feeling' when your contractor leaks site source code\\n\\nCybersecurity Month11 Oct 2022 | 8\\n\\n\", 'link': 'https://www.theregister.com/2022/10/11/toyota_source_code_email_leak/'}, {'title': \"\\n\\n\\nPro-Putin goons claim responsibility for blowing US airport websites offline\\n\\nUpdated How's that boot taste?\\n\\nSecurity10 Oct 2022 | 26\\n\\n\", 'link': 'https://www.theregister.com/2022/10/10/ddos_us_airport_websites/'}, {'title': '\\n\\n\\nIntel Alder Lake BIOS code leak may contain vital secrets\\nGurus say source includes secret hardware info, private signing key for Boot Guard protection\\n\\nSecurity10 Oct 2022 | 13\\n\\n', 'link': 'https://www.theregister.com/2022/10/10/alder_lake_bios_code_leaked/'}, {'title': \"\\n\\n\\nRed Hat backs CNCF project, spills TEE support over Kubernetes\\nKeeping the contents of your clusters secure from whoever's hosting them\\n\\nSecurity10 Oct 2022 | \\n\\n\", 'link': 'https://www.theregister.com/2022/10/10/confidential_containers_encrypted_k8s/'}, {'title': '\\n\\nIt’s 2022 and netizens are only now getting serious about cybersecurity\\nUS folks start to get the message about protecting themselves online\\n\\nCybersecurity Month10 Oct 2022 | 12\\n\\n', 'link': 'https://www.theregister.com/2022/10/10/users_security_privacy_tools/'}, {'title': \"\\n\\nSingtel confirms digital burglary at Dialog subsidiary\\nSecond of Singapore telco's Australian businesses to be prised open by criminals in weeks\\n\\nCyber-crime10 Oct 2022 | \\n\\n\", 'link': 'https://www.theregister.com/2022/10/10/singtel_dialog_breach/'}, {'title': '\\n\\nCriminal multitool LilithBot arrives on malware-as-a-service scene\\nBespoke botnet up for grabs from outfit praised for, er, customer service\\n\\nResearch10 Oct 2022 | 1\\n\\n', 'link': 'https://www.theregister.com/2022/10/10/eternity_lilithbot_malware_bundle/'}, {'title': '\\n\\nHow do you protect your online systems? Cultivate an insider threat\\n\\nOpinion Challenge your people to try to break into your systems, and see how interesting life gets for your colleagues\\n\\nSecurity10 Oct 2022 | 28\\n\\n', 'link': 'https://www.theregister.com/2022/10/10/opinion_infosec/'}, {'title': \"\\n\\n\\nMastercard moves to protect 'risky and frisky' crypto transactions\\nExpands into a sector so toxic many won't touch it\\n\\nSecurity10 Oct 2022 | 17\\n\\n\", 'link': 'https://www.theregister.com/2022/10/10/mastercard_crypto_secure/'}, {'title': \"\\n\\n\\nThat thing to help protect internet traffic from hijacking? Here's how to break it\\nRPKI is supposed to verify network routes. Cyber-researchers suggest ways to potentially defeat it\\n\\nCybersecurity Month09 Oct 2022 | \\n\\n\", 'link': 'https://www.theregister.com/2022/10/09/internet_traffic_routing_defense/'}, {'title': \"\\n\\n\\nWhen are we gonna stop calling it ransomware? It's just data kidnapping now\\n\\nComment It's not like the good old days with iffy cryptography and begging for keys\\n\\nCybersecurity Month09 Oct 2022 | 20\\n\\n\", 'link': 'https://www.theregister.com/2022/10/09/extortion_ransomware_threats_category/'}, {'title': \"\\n\\n\\nBiden's Privacy Shield 2.0 order may not satisfy Europe\\n\\nIn brief Also, Albania almost called in NATO over cyber attacks, and Facebook warns of account-stealing mobile apps\\n\\nSecurity08 Oct 2022 | 20\\n\\n\", 'link': 'https://www.theregister.com/2022/10/08/in_brief_security/'}, {'title': '\\n\\nMake your neighbor think their house is haunted by blinking their Ikea smart bulbs\\nRadio comms vulnerabilities detailed\\n\\nPatches08 Oct 2022 | 54\\n\\n', 'link': 'https://www.theregister.com/2022/10/08/buggy_ikea_smart_bulbs/'}, {'title': \"\\n\\nBinance robbed of $600 million in crypto-tokens\\nHow's your day going?\\n\\nCyber-crime07 Oct 2022 | 57\\n\\n\", 'link': 'https://www.theregister.com/2022/10/07/binance_hack_566m/'}, {'title': '\\n\\nUtility security is so bad, US DoE offers rate cuts to improve it\\nNew hardware? Consultants? You tell us because your infosec is off the grid\\n\\nCyber-crime07 Oct 2022 | 7\\n\\n', 'link': 'https://www.theregister.com/2022/10/07/utility_security/'}, {'title': \"\\n\\nLoads of PostgreSQL systems are sitting on the internet without SSL encryption\\nThey probably shouldn't be connected in the first place, says database expert\\n\\nResearch07 Oct 2022 | 20\\n\\n\", 'link': 'https://www.theregister.com/2022/10/07/postgresql_no_ssl/'}, {'title': '\\n\\n\\nHardening data security in the cloud\\nHow Intel’s SGX hardware helps safeguard applications in multi-tenant environments\\nSponsored Feature\\n\\n', 'link': 'https://www.theregister.com/2022/10/07/hardening_data_security_in_the/'}, {'title': \"\\n\\n\\nTop of the Pops: US authorities list the 20 hottest vulns that China's hackers love to hit\\nMicrosoft has four entries on list of shame, Log4j tops the chart\\n\\nCybersecurity Month07 Oct 2022 | 4\\n\\n\", 'link': 'https://www.theregister.com/2022/10/07/us_spooks_reckon_these_are/'}, {'title': \"\\n\\n\\nLloyd's of London cuts off network after dodgy activity detected\\n\\nUpdated Is it Putin? Is it the Norks? Is it a bored teenager? Roll the dice\\n\\nCyber-crime07 Oct 2022 | 11\\n\\n\", 'link': 'https://www.theregister.com/2022/10/07/lloyds_london_security_incident/'}, {'title': \"\\n\\n\\nHuge nonprofit hospital network suffers IT meltdown after 'security incident'\\nAmbulances diverted, patient records frozen, rhymes with handsome wear\\n\\nCyber-crime06 Oct 2022 | 18\\n\\n\", 'link': 'https://www.theregister.com/2022/10/06/commonspirit_health_cyberattack/'}, {'title': \"\\n\\nPapa John's sued for 'wiretap' spying on website mouse clicks, keystrokes\\nWhen the tracking hits your eye like a big pizza pie, that's a priori\\n\\nSecurity06 Oct 2022 | 27\\n\\n\", 'link': 'https://www.theregister.com/2022/10/06/papa_johns_spying_lawsuit/'}, {'title': \"\\n\\nForeign spies hijacking US mid-terms? FBI, CISA are cool as cucumbers about it\\nI think we can handle one little Russia. We sent two units, they're bringing any attempts down now\\n\\nCybersecurity Month06 Oct 2022 | 40\\n\\n\", 'link': 'https://www.theregister.com/2022/10/06/us_midterm_election_cyberattack_unlikely/'}, {'title': \"\\n\\nSouth Korea cancels passport of Terraform Lab's Do Kwon\\nWhereabouts of wanted cryptobro unknown, but he's reliably on Twitter\\n\\nCyber-crime06 Oct 2022 | 1\\n\\n\", 'link': 'https://www.theregister.com/2022/10/06/south_korea_to_invalidate_passport/'}, {'title': '\\n\\nAustralian Federal Police arrest man suspected of exploiting Optus cyberattack\\nCustomers were allegedly sent texts demanding $1,300 or face having ID used in financial crime\\n\\nSecurity06 Oct 2022 | 1\\n\\n', 'link': 'https://www.theregister.com/2022/10/06/optus_blackmail_arrest/'}, {'title': '\\n\\n\\nLearning from real life situations\\nHow about some cyber security education that’s actually delivered by people with genuine everyday experience?\\nSponsored Post\\n\\n', 'link': 'https://www.theregister.com/2022/10/06/learning_from_real_life_situations/'}, {'title': '\\n\\n\\nChina upgrades Great Firewall to defeat censor-beating TLS tools\\nJust in time to ensure nobody can disagree that giving Xi five more years as president is the best idea ever\\n\\nCybersecurity Month06 Oct 2022 | 8\\n\\n', 'link': 'https://www.theregister.com/2022/10/06/great_firewall_of_china_upgrades/'}, {'title': \"\\n\\n\\nFormer Uber CSO convicted for covering up massive 2016 data theft\\nPassing off a ransom payment as a bug bounty? That's obstruction of justice\\n\\nCyber-crime06 Oct 2022 | 14\\n\\n\", 'link': 'https://www.theregister.com/2022/10/06/uber_cso_sullivan_guilty/'}, {'title': '\\n\\n\\nNetWalker ransomware scumbag jailed for 20 years\\nAnd note to his crime pals – he said he would sing like a canary\\n\\nCyber-crime05 Oct 2022 | 6\\n\\n', 'link': 'https://www.theregister.com/2022/10/05/netwalker_ransomware_crook_sentenced/'}, {'title': '\\n\\nCyber-snoops broke into US military contractor, stole data, hid for months\\nTell us it’s Russia without telling us it’s Russia\\n\\nCybersecurity Month05 Oct 2022 | 14\\n\\n', 'link': 'https://www.theregister.com/2022/10/05/military_contractor_hack/'}, {'title': '\\n\\nDon’t let your employees become the weakest link\\nWatch our webinar to learn the best way to keep data protected from human error\\nWebinar\\n\\n', 'link': 'https://www.theregister.com/2022/10/05/watch_our_webinar_to_learn/'}, {'title': '\\n\\nModified version of Tor Browser spies on Chinese users\\nPatiently gathers data that can be used to identify the victims, says Kaspersky\\n\\nSecurity05 Oct 2022 | 7\\n\\n', 'link': 'https://www.theregister.com/2022/10/05/tor_browser_china_spy_kasperksy_research/'}, {'title': '\\n\\nDoJ ‘very disappointed’ with probation sentence for Capital One hacker Paige Thompson\\n‘This is not what justice looks like’ says official on sanction for leak of 100 million records\\n\\nCyber-crime05 Oct 2022 | 40\\n\\n', 'link': 'https://www.theregister.com/2022/10/05/paige_thompson_sentence_doj_unhappy/'}, {'title': '\\n\\n\\nAll your identity needs fulfilled\\nHow to build an environment of trust and enhance customer experience\\nVideo\\n\\n', 'link': 'https://www.theregister.com/2022/10/05/all_your_identity_needs_fulfilled/'}, {'title': '\\n\\n\\nNo Shangri-La for you: Top hotel chain confirms data leak\\nIn Xanadu did Kubla Khan a stately pleasure-dome decree\\n\\nSecurity05 Oct 2022 | 8\\n\\n', 'link': 'https://www.theregister.com/2022/10/05/shangri_data_leak/'}, {'title': '\\n\\n\\nUncle Sam orders federal agencies to step up scans for govt IT security holes\\nGood time to be selling automation tools\\n\\nCybersecurity Month04 Oct 2022 | 2\\n\\n', 'link': 'https://www.theregister.com/2022/10/04/cisa_software_vulnerability_directive/'}, {'title': '\\n\\n\\nMicrosoft: Watch out for password spray attacks – especially you, Basic Auth\\nExchange Online users should have authentication policies in place\\n\\nCSO04 Oct 2022 | 7\\n\\n', 'link': 'https://www.theregister.com/2022/10/04/microsoft_exchange_password_spray/'}, {'title': \"\\n\\nJapanese sushi chain boss resigns amid accusation of improper data access\\nData theft stinks, says victim. Alleged perp claims he's getting a raw deal\\n\\nCyber-crime04 Oct 2022 | 15\\n\\n\", 'link': 'https://www.theregister.com/2022/10/04/hama_sushi_data_theft_allegations/'}, {'title': '\\n\\nGiveaways for every security professional\\nDon’t chuck money away before you’ve checked SANS free educational content\\nSponsored Post\\n\\n', 'link': 'https://www.theregister.com/2022/10/04/giveaways_for_every_security_professional/'}, {'title': '\\n\\nAtlassian, Microsoft bugs on CISA’s must-patch list after exploitation spree\\nSome days, security just feels like a total illusion. OK, most days...\\n\\nPatches04 Oct 2022 | 5\\n\\n', 'link': 'https://www.theregister.com/2022/10/04/atlassian_microsoft_cisa_flaws/'}, {'title': '\\n\\nOnline romance scamlord who netted $9.5m jailed for 25 years\\nHello, love, I need $32k to fix my oil rig\\n\\nCyber-crime03 Oct 2022 | 15\\n\\n', 'link': 'https://www.theregister.com/2022/10/03/romance_scammer_sentenced/'}, {'title': '\\n\\n\\nFrom today, America and UK follow new rules on how they can demand your data from each other\\nCops and Feds get easier info sharing, Britain benefits most\\n\\nSecurity03 Oct 2022 | 19\\n\\n', 'link': 'https://www.theregister.com/2022/10/03/us_uk_data_access_agreement/'}, {'title': \"\\n\\n\\nIt's 2058. A quantum computer is just another decade away. Still, you curse Cloudflare\\nAssuming this Kyber TLS stuff works as expected\\n\\nSecurity03 Oct 2022 | 3\\n\\n\", 'link': 'https://www.theregister.com/2022/10/03/cloudflare_postquantum_cryptography/'}, {'title': \"\\n\\n\\nNational Cybersecurity Awareness program 18 years on: Don't click that\\nTechnology is addressing many of the cyberthreats, but the human element will always be a factor\\n\\nCybersecurity Month03 Oct 2022 | 2\\n\\n\", 'link': 'https://www.theregister.com/2022/10/03/cybersecurity_awareness_month/'}, {'title': '\\n\\n\\nFBI: We tracked who was printing secret documents to unmask ex-NSA suspect\\nInfosec systems designer alleged to have chatted with undercover agent\\n\\nSecurity03 Oct 2022 | 53\\n\\n', 'link': 'https://www.theregister.com/2022/10/03/nsa_worker_fbi_espionage/'}, {'title': '\\n\\nFounder of cybersecurity firm Acronis is afraid of his own vacuum cleaner\\nIt is the exponential changes in the course of human history that worry Serg Bell\\n\\nSecurity03 Oct 2022 | 33\\n\\n', 'link': 'https://www.theregister.com/2022/10/03/acronis_founder_smart_devices/'}, {'title': \"\\n\\nBetween ransomware and month-long engagements, IR teams need a hug – and a nap\\nHere's what 1,100 incident responders say about their jobs, just in time for NSCAM\\n\\nCybersecurity Month03 Oct 2022 | 1\\n\\n\", 'link': 'https://www.theregister.com/2022/10/03/ibm_incident_reponder_survey/'}, {'title': \"\\n\\nMoody's turns up the heat on 'riskiest' sectors for cyberattacks\\n$22 trillion of global rated debt has 'high' or 'very high' cyber-risk exposure\\n\\nCSO03 Oct 2022 | 1\\n\\n\", 'link': 'https://www.theregister.com/2022/10/03/moodys_cyber_risk_ratings/'}, {'title': \"\\n\\nSteganography alert: Backdoor spyware stashed in Microsoft logo\\nNow that's sticker shock\\n\\nResearch02 Oct 2022 | 27\\n\\n\", 'link': 'https://www.theregister.com/2022/10/02/witchetty_windows_logo_spyware/'}, {'title': \"\\n\\n\\nBlackCat malware lashes out at US defense IT contractor\\n\\nIn Brief Also, Amazon's Ring footage TV shows draws criticism, US v Soviet spying docs found, and more\\n\\nSecurity02 Oct 2022 | 12\\n\\n\", 'link': 'https://www.theregister.com/2022/10/02/in-brief-security/'}, {'title': '\\n\\n\\nGone in a day: Ethical hackers say it would take mere hours to empty your network\\n300 red teamers walk into a bar…\\n\\nCybersecurity Month01 Oct 2022 | 12\\n\\n', 'link': 'https://www.theregister.com/2022/10/01/ethical_hackers_sans_survey/'}, {'title': '\\n\\n\\nMicrosoft warns of North Korean crew posing as LinkedIn recruiters\\nState-sponsored ZINC allegedly passes on malware-laden open source apps\\n\\nResearch30 Sep 2022 | 10\\n\\n', 'link': 'https://www.theregister.com/2022/09/30/microsoft_north_korea_zinc_threat/'}, {'title': \"\\n\\n\\nStop us if you've heard this one before: Exchange Server zero-days actively exploited\\n\\nUpdated Remember this next time Microsoft talks about how seriously it takes security\\n\\nSecurity30 Sep 2022 | 21\\n\\n\", 'link': 'https://www.theregister.com/2022/09/30/exchange_server_zero_day/'}, {'title': '\\n\\nEx-eBay execs jailed for cyberstalking web critics\\nStill to come: Civil RICO lawsuit against e-souk and former top brass\\n\\nCyber-crime30 Sep 2022 | 20\\n\\n', 'link': 'https://www.theregister.com/2022/09/30/ebay_execs_jailed_cyberstalking/'}, {'title': \"\\n\\nHow CIA betrayed informants with shoddy front websites built for covert comms\\nTop tip, don't give your secret login box the HTML form type 'password'\\n\\nResearch29 Sep 2022 | 38\\n\\n\", 'link': 'https://www.theregister.com/2022/09/29/us_spy_catastrophe_reported_in/'}, {'title': \"\\n\\nPentagon is far too tight with its security bug bounties\\nBut overpriced, useless fighter jets? That's something we can get behind\\n\\nResearch29 Sep 2022 | 16\\n\\n\", 'link': 'https://www.theregister.com/2022/09/29/pentagon_bug_bounty/'}, {'title': '\\n\\nCovert malware targets VMware shops for hypervisor-level espionage\\nMandiant tracks back operators, finds ties to China\\n\\nCSO29 Sep 2022 | 3\\n\\n', 'link': 'https://www.theregister.com/2022/09/29/vmware_malware_mandiant/'}]\n"
          ]
        }
      ]
    },
    {
      "cell_type": "code",
      "source": [
        "url = \"https://research.checkpoint.com/\"\n",
        "mainLink = url.split(\"/\")[2]\n",
        "\n",
        "htmlText = requests.get(url, headers = header).text\n",
        "soup = BeautifulSoup(htmlText, \"lxml\")\n",
        "print(soup)\n",
        "\n",
        "tags = soup.find_all(\"a\")\n",
        "\n",
        "news = []\n",
        "\n",
        "for tag in tags:\n",
        "  dic = {}\n",
        "  link = tag[\"href\"]\n",
        "  header = tag.attrs.get(\"h3\")\n",
        "  print(header)\n",
        "  if(link.find(\"https:\") == -1):\n",
        "    link = \"https:\" + link\n",
        "  dic[\"header\"] = header\n",
        "  dic[\"link\"] = link\n",
        "  news.append(dic)\n",
        "\n",
        "\n",
        "\n",
        "# news = [l for l in news if l.find(mainLink) != -1]\n",
        "\n",
        "# print(news)"
      ],
      "metadata": {
        "id": "qEK9GwJ1ZbAR"
      },
      "execution_count": null,
      "outputs": []
    },
    {
      "cell_type": "markdown",
      "source": [
        "## Data Frame Initialization"
      ],
      "metadata": {
        "id": "xW7gABQwzRx9"
      }
    },
    {
      "cell_type": "code",
      "source": [
        "categoryMap = {\"security\": 1, \"non-security\": 0}\n",
        "\n",
        "# df = pd.DataFrame(columns = [\"title\", \"first two paragraph\", \"url\", \"date\", \"stemmed text\", \"category\"])\n",
        "mainDf = pd.DataFrame()"
      ],
      "metadata": {
        "id": "_cxPrAi_woFk"
      },
      "execution_count": null,
      "outputs": []
    },
    {
      "cell_type": "markdown",
      "source": [
        "## Bleeping Computer"
      ],
      "metadata": {
        "id": "MITWPCtBkhCn"
      }
    },
    {
      "cell_type": "code",
      "source": [
        "# BLEEPINGCOMPUTER.COM\n",
        "\n",
        "def tokenizeBleepingComputer(url):\n",
        "  data = requests.get(url, headers = header).text\n",
        "  new_soup = BeautifulSoup(data, \"lxml\")\n",
        "  body = new_soup.find_all(\"div\", class_ = \"articleBody\")\n",
        "\n",
        "  newsText = \"\"\n",
        "\n",
        "\n",
        "  for txt in body:\n",
        "    newsText += txt.text.strip();\n",
        "\n",
        "  newsText = newsText.translate(newsText.maketrans(\"\", \"\", string.punctuation + \"“”0123456789\"))\n",
        "\n",
        "  sentence = removeStopWords(newsText)\n",
        "  sentence = stemSentence(sentence)\n",
        "  return sentence\n",
        "  # return sentence.split(\" \")\n",
        "  # return tokenize([sentence])\n",
        "\n",
        "def scrapeBleepingComputer(page):\n",
        "  html_text = requests.get('https://bleepingcomputer.com/' + page, headers = header).text\n",
        "  soup = BeautifulSoup(html_text, \"lxml\")\n",
        "  # print(soup)\n",
        "  allNews = soup.find_all(\"div\", class_ = \"bc_latest_news_text\")\n",
        "  \n",
        "  df = pd.DataFrame()\n",
        "\n",
        "  for news in allNews:\n",
        "    dic = {}\n",
        "    date = news.ul.contents[2].text\n",
        "    category = news.div.a.text\n",
        "    title = news.h4.a\n",
        "    firstParagraph = news.p.text\n",
        "    title_text = title.text\n",
        "    title_link = title[\"href\"]\n",
        "    dic[\"title\"] = title_text\n",
        "    dic[\"first paragraph\"] = firstParagraph\n",
        "    dic[\"url\"] = title_link\n",
        "    dic[\"date\"] = date\n",
        "    if(category == \"Security\"):\n",
        "      dic[\"category\"] = \"security\"\n",
        "    else:\n",
        "      dic[\"category\"] = \"non-security\"\n",
        "    dic[\"stemmed text\"] = tokenizeBleepingComputer(title_link)\n",
        "    df = df.append(dic, ignore_index = True)\n",
        "  return df"
      ],
      "metadata": {
        "id": "YTfp7RFiMR1l"
      },
      "execution_count": null,
      "outputs": []
    },
    {
      "cell_type": "code",
      "source": [
        "for i in range(100):\n",
        "  if(i == 0):\n",
        "    df = scrapeBleepingComputer(\"\")\n",
        "  else:\n",
        "    df = scrapeBleepingComputer(\"page/\" + str(i + 1) + \"/\")\n",
        "  mainDf = mainDf.append(df, ignore_index= True)"
      ],
      "metadata": {
        "id": "ZOGGWJjHw_Xp"
      },
      "execution_count": null,
      "outputs": []
    },
    {
      "cell_type": "markdown",
      "source": [
        "## The Register"
      ],
      "metadata": {
        "id": "UQ1XPMH8kYYp"
      }
    },
    {
      "cell_type": "code",
      "source": [
        "# THEREGISTER.COM\n",
        "\n",
        "def tokenizeTheRegister(url):\n",
        "  data = requests.get(url, headers = header).text\n",
        "  new_soup = BeautifulSoup(data, \"lxml\")\n",
        "  body = new_soup.find_all(\"div\", id = \"body\")\n",
        "\n",
        "  newsText = \"\"\n",
        "\n",
        "  for txt in body:\n",
        "    newsText += txt.text.strip()\n",
        "  \n",
        "  newsText = newsText.translate(newsText.maketrans(\"\", \"\", string.punctuation + \"“”0123456789\"))\n",
        "\n",
        "  sentence = removeStopWords(newsText)\n",
        "  sentence = stemSentence(sentence)\n",
        "  return sentence\n",
        "  # return sentence.split(\" \")\n",
        "  # return tokenize([sentence])\n",
        "\n",
        "def scrapeTheRegister(earlier):\n",
        "  df = pd.DataFrame()\n",
        "  html_text = requests.get('https://www.theregister.com/' + earlier, headers = header).text\n",
        "  soup = BeautifulSoup(html_text, \"lxml\")\n",
        "  allNews = soup.find_all(\"div\", class_ = \"time_comments\")\n",
        "\n",
        "  for new in allNews:\n",
        "    # print(new.contents[2].get(\"title\"))\n",
        "\n",
        "    dic = {}\n",
        "\n",
        "    dic[\"title\"] = new.parent.h4.text\n",
        "    dic[\"first paragraph\"] = new.parent.div.text\n",
        "    dic[\"url\"] = \"https://www.theregister.com\" + new.parent.parent.get(\"href\")\n",
        "    spans = new.find_all(\"span\")\n",
        "    dic[\"date\"] = spans[1].text if len(spans) > 1 else \"No Date\"\n",
        "    if(spans[0].text == \"Security\" or spans[0].text == \"Cyber-crime\" or spans[0].text == \"Patches\" or spans[0].text == \"Research\" or spans[0].text == \"CSO\"):\n",
        "      dic[\"category\"] = spans[0].text\n",
        "    else:\n",
        "      dic[\"category\"] = \"non-security\"\n",
        "    dic[\"stemmed text\"] = tokenizeTheRegister(dic[\"url\"])\n",
        "    df = df.append(dic, ignore_index = True)\n",
        "\n",
        "  return df"
      ],
      "metadata": {
        "id": "4NbRGe48jLQB"
      },
      "execution_count": null,
      "outputs": []
    },
    {
      "cell_type": "code",
      "source": [
        "for i in range(100):\n",
        "  if(i == 0):\n",
        "    df = scrapeTheRegister(\"\")\n",
        "  else:\n",
        "    df = scrapeTheRegister(\"earlier/\" + str(i + 1))\n",
        "  mainDf = mainDf.append(df, ignore_index= True)"
      ],
      "metadata": {
        "id": "tIue00F5wat_"
      },
      "execution_count": null,
      "outputs": []
    },
    {
      "cell_type": "markdown",
      "source": [
        "## "
      ],
      "metadata": {
        "id": "D0v-t1fnkQq6"
      }
    },
    {
      "cell_type": "code",
      "source": [
        "# SECURITY AFFAIRS\n",
        "\n",
        "def tokenizeSecurityAffairs(url):\n",
        "  data = requests.get(url, headers = header).text\n",
        "  new_soup = BeautifulSoup(data, \"lxml\")\n",
        "  body = new_soup.find_all(\"div\", class_ = \"post_inner_wrapper\")\n",
        "\n",
        "  newsText = \"\"\n",
        "\n",
        "\n",
        "  for txt in body:\n",
        "    for tag in txt.find_all(\"p\"):\n",
        "      newsText += tag.text + \"\\n\"\n",
        "\n",
        "    newsText = newsText.replace(\"Pierluigi\", \"\")\n",
        "    newsText = newsText.replace(\"Paganini\", \"\")\n",
        "    newsText = newsText.replace(\"Follow me on Twitter: @securityaffairs and Facebook\", \"\")\n",
        "    newsText = newsText.replace(\"Please vote for Security Affairs as the best European Cybersecurity Blogger Awards 2022 – VOTE FOR YOUR WINNERSVote for me in the sections “The Underdogs – Best Personal (non-commercial) Security Blog” and “The Tech Whizz – Best Technical Blog” and others of your choice.To nominate, please visit: https://docs.google.com/forms/d/e/1FAIpQLSfxxrxICiMZ9QM9iiPuMQIC-IoM-NpQMOsFZnJXrBQRYJGCOw/viewform\", \"\")\n",
        "\n",
        "  newsText = newsText.translate(newsText.maketrans(\"\", \"\", string.punctuation + \"“”0123456789_-''\"))\n",
        "\n",
        "  sentence = removeStopWords(newsText)\n",
        "  sentence = stemSentence(sentence)\n",
        "  return sentence\n",
        "  # return sentence.split(\" \")\n",
        "  # return tokenize([sentence])\n",
        "\n",
        "def scrapeSecurityAffairs(page):\n",
        "  df = pd.DataFrame()\n",
        "  html_text = requests.get('https://securityaffairs.co/wordpress/' + page, headers = header).text\n",
        "  soup = BeautifulSoup(html_text, \"lxml\")\n",
        "  allNews = soup.find_all(\"div\", class_ = \"post_wrapper\")\n",
        "\n",
        "  for news in allNews:\n",
        "    dic = {}\n",
        "    info = news.find_all(\"div\", class_=\"post_detail large_space\")\n",
        "    date = info[0].a.text\n",
        "    categories =[ category.text for category in info[0].a.find_next_siblings(\"a\")[1:]]\n",
        "    title = news.h3.a\n",
        "    title_text = title.text\n",
        "    title_link = title[\"href\"]\n",
        "    dic[\"title\"] = title_text\n",
        "\n",
        "    firstP = news.find(\"div\", class_ = \"post_wrapper_inner\")\n",
        "    dic[\"first paragraph\"] = firstP.p.text.strip()\n",
        "    dic[\"url\"] = title_link\n",
        "    dic[\"date\"] = date\n",
        "    if(\"Security\" in categories):\n",
        "      dic[\"category\"] = \"security\"\n",
        "    else:\n",
        "      dic[\"category\"] = \"non-security\"\n",
        "    dic[\"stemmed text\"] = tokenizeSecurityAffairs(title_link)\n",
        "    # print(dic)\n",
        "    df = df.append(dic, ignore_index = True)\n",
        "  \n",
        "  return df"
      ],
      "metadata": {
        "id": "b_hmkE8CCCik"
      },
      "execution_count": null,
      "outputs": []
    },
    {
      "cell_type": "code",
      "source": [
        "for i in range(100):\n",
        "  if(i == 0):\n",
        "    df = scrapeSecurityAffairs(\"\")\n",
        "  else:\n",
        "    df = scrapeSecurityAffairs(\"page/\" + str(i + 1) + \"/\")\n",
        "  mainDf = mainDf.append(df, ignore_index = True)"
      ],
      "metadata": {
        "id": "gV7BcjLCxKBh"
      },
      "execution_count": null,
      "outputs": []
    },
    {
      "cell_type": "code",
      "source": [
        "mainDf"
      ],
      "metadata": {
        "id": "QEUNRgtZgVeT"
      },
      "execution_count": null,
      "outputs": []
    },
    {
      "cell_type": "code",
      "source": [
        "mainDf.to_csv(\"df.csv\", index=False)"
      ],
      "metadata": {
        "id": "zsGCs6aPxeZI"
      },
      "execution_count": null,
      "outputs": []
    },
    {
      "cell_type": "markdown",
      "source": [
        "## Packet Storm"
      ],
      "metadata": {
        "id": "gpdLfCQIHvDh"
      }
    },
    {
      "cell_type": "code",
      "source": [
        "# PACKET STORM\n",
        "\n",
        "def tokenizeTheRegister(url):\n",
        "  data = requests.get(url, headers = header).text\n",
        "  new_soup = BeautifulSoup(data, \"lxml\")\n",
        "  body = new_soup.find_all(\"body\")\n",
        "  # print(body[0].text)\n",
        "\n",
        "  # newsText = \"\"\n",
        "\n",
        "  # for txt in body:\n",
        "  #   newsText += txt.text.strip()\n",
        "  \n",
        "  # newsText = newsText.translate(newsText.maketrans(\"\", \"\", string.punctuation + \"“”0123456789\"))\n",
        "\n",
        "  # sentence = removeStopWords(newsText)\n",
        "  # sentence = stemSentence(sentence)\n",
        "  # return sentence\n",
        "  return body[0].text\n",
        "\n",
        "def scrapePacketStorm(earlier = \"\"):\n",
        "  df = pd.DataFrame()\n",
        "  html_text = requests.get('https://packetstormsecurity.com/news/' + earlier, headers = header).text\n",
        "  soup = BeautifulSoup(html_text, \"lxml\")\n",
        "  allNews = soup.find_all(\"dl\", class_ = \"news\")\n",
        "\n",
        "  # allNews = allNews[0: 4]\n",
        "\n",
        "  # for new in allNews:\n",
        "  for new in allNews:\n",
        "    # print(new)\n",
        "    # print(new.find_all(\"dd\", class_ = \"tags\")[0].find_all(\"a\"))\n",
        "    # print(new.find_all(\"dd\", class_ = \"tags\"))\n",
        "\n",
        "    dic = {}\n",
        "\n",
        "    dic[\"title\"] = new.dt.text\n",
        "    # dic[\"first paragraph\"] = new.parent.div.text\n",
        "    dic[\"url\"] = \"https://packetstormsecurity.com\" + new.dt.a.get(\"href\")\n",
        "\n",
        "    dic[\"date\"] = new.find_all(\"dd\", class_ = \"datetime\")[0].a.text\n",
        "    \n",
        "    dic[\"category\"] = \"\"\n",
        "    for a in new.find_all(\"dd\", class_ = \"tags\")[0].find_all(\"a\"):\n",
        "      if a.text != \"headline\":\n",
        "        dic[\"category\"] += a.text + \", \"\n",
        "    dic[\"category\"] = dic[\"category\"][0: len(dic[\"category\"]) - 2]\n",
        "\n",
        "    # dic[\"stemmed text\"] = tokenizeTheRegister(dic[\"url\"])\n",
        "    df = df.append(dic, ignore_index = True)\n",
        "\n",
        "  return df"
      ],
      "metadata": {
        "id": "sRjXrsbLH5a9"
      },
      "execution_count": null,
      "outputs": []
    },
    {
      "cell_type": "code",
      "source": [
        "df = scrapePacketStorm(\"\")\n",
        "df.style"
      ],
      "metadata": {
        "id": "EiRQWtB5I7gA"
      },
      "execution_count": null,
      "outputs": []
    },
    {
      "cell_type": "markdown",
      "source": [
        "Scrape Packet Storm Categories & Mapping"
      ],
      "metadata": {
        "id": "rdikNT2G86c3"
      }
    },
    {
      "cell_type": "code",
      "source": [
        "def scrapeCategories(earlier = \"\"):\n",
        "  cat = []\n",
        "  html_text = requests.get('https://packetstormsecurity.com/news/tags/' + earlier, headers = header).text\n",
        "  soup = BeautifulSoup(html_text, \"lxml\")\n",
        "  categories = soup.find_all(\"div\", class_ = \"static\")\n",
        "  for ul in categories:\n",
        "    for li in ul.findAll('li'):\n",
        "      cat.append(li.a.text)\n",
        "  return cat\n",
        "categories = scrapeCategories(\"\")\n",
        "print(categories)"
      ],
      "metadata": {
        "colab": {
          "base_uri": "https://localhost:8080/"
        },
        "id": "pWex38i18tWb",
        "outputId": "823790f3-a67b-4832-e066-8f0a8f4b0580"
      },
      "execution_count": null,
      "outputs": [
        {
          "output_type": "stream",
          "name": "stdout",
          "text": [
            "['0 Day', 'Adobe', 'Afghanistan', 'Africa', 'Algeria', 'Amazon', 'Anonymous', 'Apache', 'Apple', 'Argentina', 'Australia', 'Backdoor', 'Bank', 'BlackBerry', 'Botnet', 'Brazil', 'Britain', 'BSD', 'Canada', 'Car', 'Caribbean', 'Censorship', 'China', 'CIA', 'Cisco', 'Commodore', 'Conference', 'Cookiejacking', 'Cryptography', 'CSRF', 'Cuba', 'Cybercrime', 'Cyberwar', 'Data Loss', 'Database', 'DMCA', 'DNS', 'DoS', 'eBay', 'Egypt', 'Email', 'Ethiopia', 'Facebook', 'FBI', 'Finland', 'Firefox', 'Flaw', 'France', 'Fraud', 'Gamble', 'Germany', 'Google', 'Google Chrome', 'Government', 'Greece', 'Hacker', 'Headline', 'IBM', 'Identity Theft', 'India', 'Indonesia', 'Intel', 'Iran', 'Iraq', 'Ireland', 'Israel', 'Italy', 'Japan', 'Java', 'Juniper', 'Kernel', 'Korea', 'Libya', 'Linux', 'Malaysia', 'Malware', 'McAfee', 'Mexico', 'Microsoft', 'Military', 'Motorola', 'Mozilla', 'MPAA', 'MySQL', 'Nasa', 'Netherlands', 'New Zealand', 'Nintendo', 'Nokia', 'Nortel', 'Norway', 'NSA', 'OpenBSD', 'Opera', 'Oracle', 'Pakistan', 'Passport', 'Password', 'Patch', 'PayPal', 'Philippines', 'Phish', 'Phone', 'Pirate', 'Portugal', 'Privacy', 'Religion', 'RFID', 'RIAA', 'Romania', 'RSA', 'Russia', 'Safari', 'Samsung', 'Saudi Arabia', 'Scada', 'Scam', 'Science', 'Scotland', 'Sega', 'Singapore', 'Site', 'Skype', 'Social', 'Sony', 'Space', 'Spain', 'Spam', 'Spyware', 'SSH', 'SSL', 'Survey', 'Sweden', 'Switzerland', 'Symantec', 'Syria', 'Taiwan', 'Terror', 'Thailand', 'Trojan', 'Turkey', 'Twitter', 'Uber', 'USA', 'Venezuela', 'VeriSign', 'Vietnam', 'Virus', 'VoIP', 'WebKit', 'Wireless', 'WordPress', 'Worm', 'XSS', 'Yahoo!', 'Yemen']\n"
          ]
        }
      ]
    },
    {
      "cell_type": "markdown",
      "source": [
        "['0 Day', 'Adobe', 'Afghanistan', 'Africa', 'Algeria', 'Amazon', 'Anonymous', 'Apache', 'Apple', 'Argentina', 'Australia', 'Backdoor', '**Bank**', 'BlackBerry', 'Botnet', 'Brazil', 'Britain', '**BSD**', 'Canada', '**Car**', 'Caribbean', '**Censorship**', 'China', 'CIA', 'Cisco', 'Commodore', 'Conference', '**Cookiejacking**', 'Cryptography', '**CSRF**', 'Cuba', '**Cybercrime**', 'Cyberwar', '**Data Loss**', '**Database**', '**DMCA**', 'DNS', 'DoS', 'eBay', 'Egypt', '**Email**', 'Ethiopia', 'Facebook', '**FBI**', 'Finland', 'Firefox', 'Flaw', 'France', '**Fraud**', '**Gamble**', 'Germany', 'Google', 'Google Chrome', 'Government', 'Greece', '**Hacker**', 'Headline', 'IBM', '**Identity Theft**', 'India', 'Indonesia', 'Intel', 'Iran', 'Iraq', 'Ireland', 'Israel', 'Italy', 'Japan', 'Java', 'Juniper', '**Kernel**', 'Korea', 'Libya', 'Linux', 'Malaysia', 'Malware', '**McAfee**', 'Mexico', 'Microsoft', 'Military', 'Motorola', 'Mozilla', '**MPAA**', 'MySQL', 'Nasa', 'Netherlands', 'New Zealand', 'Nintendo', 'Nokia', 'Nortel', 'Norway', '**NSA**', '**OpenBSD**', 'Opera', 'Oracle', 'Pakistan', 'Passport', '**Password**', 'Patch', 'PayPal', 'Philippines', 'Phish', 'Phone', '**Pirate**', 'Portugal', '**Privacy**', '**Religion**', '**RFID**', '**RIAA**', 'Romania', 'RSA', 'Russia', 'Safari', 'Samsung', 'Saudi Arabia', '**Scada**', '**Scam**', '**Science**', 'Scotland', 'Sega', 'Singapore', '**Site**', 'Skype', '**Social**', 'Sony', '**Space**', 'Spain', '**Spam**', 'Spyware', 'SSH', 'SSL', '**Survey**', 'Sweden', 'Switzerland', '**Symantec**', 'Syria', 'Taiwan', 'Terror', 'Thailand', 'Trojan', 'Turkey', 'Twitter', 'Uber', 'USA', 'Venezuela', '**VeriSign**', 'Vietnam', 'Virus', '**VoIP**', '**WebKit**', 'Wireless', 'WordPress', '**Worm**', 'XSS', 'Yahoo!', 'Yemen']"
      ],
      "metadata": {
        "id": "hM63sF4_F0Tm"
      }
    },
    {
      "cell_type": "markdown",
      "source": [
        "'hacker groups'-> Anonymous\n",
        "'government' -> Government\n",
        "corporation' -> Adobe, Amazon, Apple, Apache, BlackBerry, Cisco, Commodore, eBay, Facebook, Google, IBM, Intel, Juniper, Motorola, Mozilla, Nintendo, Nokia, Nortel, Oracle, PayPal, Samsung, Yahoo!, WordPress, Sega, Skype, Sony, Twitter, Uber\n",
        "'unrelated' -> Car?, Headline\n",
        "'darknet'\n",
        "'cyber defense'\n",
        "'hacking'\n",
        "'security concepts'->Cryptography, RSA\n",
        "'security products'\n",
        "'network security'-> DNS, DoS, Botnet, SSH, SSL, Wireless\n",
        "'cyberwar' -> Cyberwar, Terror\n",
        "'geopolitical' -> Afghanistan, africa, algeria, cia, Argentina, Australia, Brazil, Britain, Canada, Caribbean, China, Cuba, Egypt, Ethiopia, Finland, Greece, Cyberwar, France, Germany, India, Indonesia, Iran, Iraq, Ireland, Israel, Italy, Japan, Korea, Libya, Malaysia, Mexico, NASA, Netherlands, New Zeland, Norway, Pakistan, Passport?, Philippines, Portugal, Romania, Russia, Saudi Arabia, Yemen, Scotland, Singapore, Spain, Sweden, Switzerland, Syria, Taiwan, Terror, Thailand, Turkey, USA, Venezuela, Vietnam\n",
        "'data breach'\n",
        "'vulnerability'-> 0 day, Flaw, XSS, Patch\n",
        "'platform' ->Microsoft, Java, Linux, MySql, Phone, Safari, Google Chrome,Opera, Firefox\n",
        "'cyber attack' -> Malware, Backdoor, Phish, Virus, Spyware, Trojan"
      ],
      "metadata": {
        "id": "a9Ady4yMRrY3"
      }
    },
    {
      "cell_type": "markdown",
      "source": [
        "'fraud', 'hacker groups', 'government', 'corporation',\n",
        "       'unrelated', 'darknet', 'cyber defense', 'hacking', 'security concepts',\n",
        "       'security products', 'network security', 'cyberwar', 'geopolitical',\n",
        "       'data breach', 'vulnerability', 'platform', 'cyber attack'"
      ],
      "metadata": {
        "id": "o4XocFBclCWv"
      }
    },
    {
      "cell_type": "code",
      "source": [
        "new_concept = \"cyber attack\"\n",
        "new_df = pd.DataFrame()\n",
        "new_df[\"raw_text\"] = df[\"raw_text\"]\n",
        "\n",
        "replace_dicts = [{\"remove\":[\"fraud\"], \"merge\": [\"fraud\"]}, {\"remove\":[\"hacker groups\"], \"merge\": [\"hacker groups\"]},\n",
        "                 {\"remove\":[\"government\"], \"merge\": [\"government\"]}, {\"remove\":[\"corporation\"], \"merge\": [\"corporation\"]}, \n",
        "                 {\"remove\":[\"unrelated\"], \"merge\": [\"unrelated\"]},\n",
        "                 {\"remove\":[\"darknet\"], \"merge\": [\"darknet\"]}, \n",
        "                 {\"remove\":[\"incident response\", \"cyber intelligence\", \"antivirus\", \"forensics\", \"pen testing\", \"firewall\"], \"merge\": [\"cyber defense\"]},\n",
        "                 {\"remove\":[\"hacking\", \"white hat\", \"black hat\",\"hacker groups\"], \"merge\": [\"hacking\"]},\n",
        "                 {\"remove\":[\"stenography\", \"cryptography\"], \"merge\": [\"security concepts\"]},\n",
        "                 {\"remove\":[\"cloud security\", \"firewall\", \"antivirus\"], \"merge\": [\"security products\"]},\n",
        "                 {\"remove\":[\"botnet\", \"IoT\", \"DDOS\"], \"merge\": [\"network security\"]},\n",
        "                 {\"remove\":[\"cyberwar\"], \"merge\": [\"cyberwar\"]},\n",
        "                 {\"remove\":[\"geopolitical\", \"cyberwar\", \"usa\", \"russia\", \"ukraine\", \"cyberterrorism\"], \"merge\": [\"geopolitical\"]},\n",
        "                 {\"remove\":[\"data breach\", \"security breach\"], \"merge\": [\"data breach\"]},\n",
        "                 {\"remove\":[\"vulnerability\", \"cve\", \"XSS\", \"patch\"], \"merge\": [\"vulnerability\"]},\n",
        "                 {\"remove\":[\"mobile\", \"IoT\", \"OS\"], \"merge\": [\"platform\"]},\n",
        "                 {\"remove\":[\"cyber attack\", \"malware\", \"virus\", \"DDOS\", \"botnet\", \"hacking\", \"phishing\",\n",
        "                            \"adware\", \"rootkit\", \"backdoor\", \"keylog\", \"trojan\", \"ransomware\", \"spyware\"], \"merge\": [\"cyber attack\"]},\n",
        "                 ]\n",
        "\n",
        "def replace_cats(row, entry):\n",
        "  for cat in entry[\"remove\"]:\n",
        "    if row[cat] == 1:\n",
        "      row[new_concept] = row[cat]\n",
        "      return row\n",
        "  row[new_concept] = 0\n",
        "  return row\n",
        "\n",
        "for entry in replace_dicts:\n",
        "  new_concept = entry[\"merge\"][0]\n",
        "  new_df[new_concept] = df.apply(replace_cats, args=[entry], axis=1)[new_concept]"
      ],
      "metadata": {
        "id": "CWhvhQWYK9jD"
      },
      "execution_count": null,
      "outputs": []
    },
    {
      "cell_type": "markdown",
      "source": [
        "## Naive Bayes"
      ],
      "metadata": {
        "id": "vzpoX_VLkcQn"
      }
    },
    {
      "cell_type": "code",
      "source": [
        "import json\n",
        "import pandas as pd"
      ],
      "metadata": {
        "id": "6lG95zeXwFPN"
      },
      "execution_count": null,
      "outputs": []
    },
    {
      "cell_type": "code",
      "source": [
        "with open(\"theRegister.json\", \"w\") as f: #if exists, open; else, create\n",
        "\n",
        "df = pd.DataFrame(columns = [\"news\", \"category\"])\n",
        "\n",
        "for i in range(1):\n",
        "  if(i == 0):\n",
        "    arr = scrapeTheRegister(\"\")\n",
        "  else:\n",
        "    arr = scrapeTheRegister(\"earlier/\" + str(i + 1) + \"/\")\n",
        "  for i in range(len(arr)):\n",
        "    df = df.append({\"news\": arr[i][\"bow\"], 'category': arr[i]['category']}, ignore_index = True)\n",
        "\n",
        "# df[\"category\"].replace(categoryMap, inplace = True)\n",
        "\n",
        "print(df)\n",
        "\n",
        "# uploadFile(\"theRegister.json\")"
      ],
      "metadata": {
        "id": "aMzL4jEAwwCj",
        "colab": {
          "base_uri": "https://localhost:8080/",
          "height": 133
        },
        "outputId": "43f22144-5946-4f80-da6e-85532f08372d"
      },
      "execution_count": null,
      "outputs": [
        {
          "output_type": "error",
          "ename": "IndentationError",
          "evalue": "ignored",
          "traceback": [
            "\u001b[0;36m  File \u001b[0;32m\"<ipython-input-36-7bc9cbb00816>\"\u001b[0;36m, line \u001b[0;32m3\u001b[0m\n\u001b[0;31m    df = pd.DataFrame(columns = [\"news\", \"category\"])\u001b[0m\n\u001b[0m     ^\u001b[0m\n\u001b[0;31mIndentationError\u001b[0m\u001b[0;31m:\u001b[0m expected an indented block\n"
          ]
        }
      ]
    },
    {
      "cell_type": "code",
      "source": [
        "# with open(\"bleepingComputer.json\", \"w\") as f: #if exists, open; else, create\n",
        "# df = pd.DataFrame(columns = [\"news\", \"category\"])\n",
        "\n",
        "# for i in range(100):\n",
        "#   if(i == 0):\n",
        "#     arr = scrapeBleepingComputer(\"\")\n",
        "#   else:\n",
        "#     arr = scrapeBleepingComputer(\"page/\" + str(i + 1) + \"/\")\n",
        "#   for i in range(len(arr)):\n",
        "#     df = df.append({\"news\": arr[i][\"bow\"], \"category\": arr[i][\"category\"]}, ignore_index = True)\n",
        "\n",
        "# df[\"category\"].replace(categoryMap, inplace = True)\n",
        "\n",
        "# print(df)\n",
        "\n",
        "# uploadFile(\"bleepingComputer.json\")"
      ],
      "metadata": {
        "id": "J_eYAxzNURyT"
      },
      "execution_count": null,
      "outputs": []
    },
    {
      "cell_type": "code",
      "source": [
        "# with open(\"securityAffairs.json\", \"w\") as f: #if exists, open; else, create\n",
        "\n",
        "# df = pd.DataFrame(columns = [\"news\", \"category\"])\n",
        "\n",
        "# for i in range(100):\n",
        "#   if(i == 0):\n",
        "#     arr = scrapeSecurityAffairs(\"\")\n",
        "#   else:\n",
        "#     arr = scrapeSecurityAffairs(\"page/\" + str(i + 1) + \"/\")\n",
        "#   for i in range(len(arr)):\n",
        "#     df = df.append({\"news\": arr[i][\"bow\"], \"category\": arr[i][\"category\"]}, ignore_index = True)\n",
        "\n",
        "# df[\"category\"].replace(categoryMap, inplace = True)\n",
        "\n",
        "# print(df)\n",
        "\n",
        "# uploadFile(\"securityAffairs.json\")"
      ],
      "metadata": {
        "id": "axCman64EEIl"
      },
      "execution_count": null,
      "outputs": []
    },
    {
      "cell_type": "code",
      "source": [
        "X_train, X_test, y_train, y_test= train_test_split(df[\"news\"], df[\"category\"], test_size=0.25, random_state=42)"
      ],
      "metadata": {
        "id": "jqr2fzv_zDU1"
      },
      "execution_count": null,
      "outputs": []
    },
    {
      "cell_type": "code",
      "source": [
        "# https://scikit-learn.org/stable/modules/generated/sklearn.naive_bayes.GaussianNB.html\n",
        "\n",
        "# Create a class for converting sparse matrix output of TfidfVectorizer to dense matrix for feeding into GaussianNB\n",
        "class DenseTransformer(TransformerMixin):\n",
        "\n",
        "    def fit(self, X, y=None, **fit_params):\n",
        "        return self\n",
        "\n",
        "    def transform(self, X, y=None, **fit_params):\n",
        "        return X.todense()\n",
        "\n",
        "\n",
        "# Initiate the pipeline with required components.You can use Pipeline class of sklearn -> https://scikit-learn.org/stable/modules/generated/sklearn.pipeline.Pipeline.html\n",
        "# There will be three components; 1) TfidfVectorizer 2) DenseTransformer 3) Naive Bayes classifier.\n",
        "\n",
        "pipeline=Pipeline([('tfidf',TfidfVectorizer()),('dense_transformer',DenseTransformer()),(\"gnb\",GaussianNB())]) \n",
        "\n",
        "\n",
        "# Set the hyperparameter space that will be scanned with GridSearchCV.\n",
        "\n",
        "grid_params = {\n",
        "  \"tfidf__ngram_range\": [(1, 1), (1, 2), (1, 3)],\n",
        "  \"tfidf__min_df\": [10, 15, 40],\n",
        "  # \"tfidf__max_df\": []\n",
        "}"
      ],
      "metadata": {
        "id": "60m958JsyN-i"
      },
      "execution_count": null,
      "outputs": []
    },
    {
      "cell_type": "code",
      "source": [
        "# Initialize and run the GridSearchCV to scan the hyperparameter and find the best hyperparameter set that will maximize the scoring option for binary classification.\n",
        "\n",
        "cv_nb = GridSearchCV(pipeline, grid_params, scoring='f1_macro', cv =5, verbose = 1)\n",
        "cv_nb.fit(X_train, y_train)\n",
        "\n",
        "\n",
        "# Report the standart deviation of split scores for each hyperparameter group.\n",
        "\n",
        "#printing min, max, mean and std scores of parameter groups\n",
        "splits = [cv_nb.cv_results_['split0_test_score'], cv_nb.cv_results_['split1_test_score'], cv_nb.cv_results_['split2_test_score'], cv_nb.cv_results_['split3_test_score'], cv_nb.cv_results_['split4_test_score']]\n",
        "avg_scores = []\n",
        "for split in splits:\n",
        "  avg_scores.append(np.mean(split))\n",
        "min_score = min(avg_scores)\n",
        "min_index = avg_scores.index(min_score) \n",
        "max_score = max(avg_scores)\n",
        "max_index = avg_scores.index(max_score)\n",
        "print(\"Standard Deviations : \", cv_nb.cv_results_['std_test_score'])\n",
        "print(\"Mean Scores : \", cv_nb.cv_results_['mean_test_score'])\n",
        "print(\"Min Score : \", splits[min_index], \"Split index of min: \", min_index)\n",
        "print(\"Max Score : \", splits[max_index], \"Split index of min: \", max_index)\n",
        "\n",
        "# Show the best parameter set for given dataset and hyperparameter space.\n",
        "\n",
        "print(\"Best Parameters: \", cv_nb.best_params_)\n",
        "# Building the pipeline with the best parameter group and reporting Conf. Mat. and Results on the Test Set #\n",
        "# Create your Pipeline object with the best parameter set.\n",
        "\n",
        "best_pipeline=Pipeline([('tfidf',TfidfVectorizer()),('dense_transformer',DenseTransformer()),(\"gnb\",GaussianNB())]) \n",
        "best_pipeline.set_params(**cv_nb.best_params_)\n",
        "\n",
        "# Fit your pipeline on training set.\n",
        "best_pipeline.fit(X_train, y_train)\n",
        "\n",
        "# Take prediction and report the F1 and Accuracy scores for binary classification. Then show the confussion table.\n",
        "from sklearn.metrics import classification_report\n",
        "from sklearn.metrics import plot_confusion_matrix\n",
        "import matplotlib.pyplot as plt\n",
        "pred = best_pipeline.predict(X_test)\n",
        "print(classification_report(y_test, pred)) #f1 and accuracy scores report\n",
        "title = \"News Categories Confusion Table\"\n",
        "disp = plot_confusion_matrix(best_pipeline, X_test, y_test, cmap=plt.cm.Blues,normalize=\"true\")\n",
        "disp.ax_.set_title(title)\n",
        "plt.show()"
      ],
      "metadata": {
        "id": "bsMNOF1ayQpq"
      },
      "execution_count": null,
      "outputs": []
    }
  ]
}